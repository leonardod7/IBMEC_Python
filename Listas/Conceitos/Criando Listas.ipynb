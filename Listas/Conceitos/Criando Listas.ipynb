{
 "cells": [
  {
   "cell_type": "code",
   "execution_count": null,
   "metadata": {
    "collapsed": true,
    "pycharm": {
     "name": "#%%\n"
    }
   },
   "outputs": [],
   "source": [
    "# Exemplo 1\n",
    "# criando uma lista\n",
    "\n",
    "Lista = [20,30,40,50,35,45]\n",
    "print(Lista)"
   ]
  },
  {
   "cell_type": "code",
   "execution_count": null,
   "outputs": [],
   "source": [
    "# Exemplo 2\n",
    "# validando se um elemento esta na lista\n",
    "\n",
    "lista = [\"a\",\"b\",\"c\",\"d\"]\n",
    "validacao = \"a\" in lista\n",
    "print(validacao)\n",
    "\n",
    "# Exemplo 4\n",
    "# concatenar listas\n",
    "a = [1,2,3,4]\n",
    "b = [5,6,7,8]\n",
    "c = a + b\n",
    "print(c)"
   ],
   "metadata": {
    "collapsed": false,
    "pycharm": {
     "name": "#%%\n"
    }
   }
  },
  {
   "cell_type": "code",
   "execution_count": null,
   "outputs": [],
   "source": [
    "# Exemplo 5\n",
    "# Repeticao de lista\n",
    "\n",
    "a = [21] * 4     # cria-se uma lista com [21,21,21,21]\n",
    "print(a)\n",
    "\n",
    "c = [1,2,3] * 3   # cria-se uma lista com [1,2,3,1,2,3,1,2,3)\n",
    "print(c)"
   ],
   "metadata": {
    "collapsed": false,
    "pycharm": {
     "name": "#%%\n"
    }
   }
  },
  {
   "cell_type": "code",
   "execution_count": null,
   "outputs": [],
   "source": [
    "# Exemplo 6\n",
    "# Fatias de pizza\n",
    "\n",
    "t = [\"a\", \"b\", \"c\", \"d\",\"e\",\"f\"]\n",
    "print(t)\n",
    "t = t[2:4]       # observe que o 4 da fatia representa 1 numero a menos, no caso, a lista tras o elemento na posicao 2 até o 3, \"c\" e \"d\"\n",
    "print(t)\n",
    "\n",
    "k = [\"a\", \"b\", \"c\", \"d\",\"e\",\"f\"]\n",
    "print(k)\n",
    "k = k[:4]       # se omitirmos o primeiro índice, a fatia comeca no inicio gerando como resposta \"a\", \"b\", \"c\" e \"d\"\n",
    "print(k)\n",
    "\n",
    "k = [\"a\", \"b\", \"c\", \"d\",\"e\",\"f\"]\n",
    "print(k)\n",
    "k = k[3:]       # se omitirmos o segundo índice, a fatia vai até o final gerando como resposta \"d\", \"e\" e \"f\"\n",
    "print(k)"
   ],
   "metadata": {
    "collapsed": false,
    "pycharm": {
     "name": "#%%\n"
    }
   }
  },
  {
   "cell_type": "code",
   "execution_count": null,
   "outputs": [],
   "source": [
    "# Exemplo 7\n",
    "# Substituindo listas com fatias\n",
    "\n",
    "k = [\"a\", \"b\", \"c\", \"d\",\"e\",\"f\"]\n",
    "k[1:3] = [\"x\",\"y\"]                   # substituimos o elemento do indice 1 e 2 que sao \"b\"e \"c\" por \"x\", e \"y\"\n",
    "print(k)"
   ],
   "metadata": {
    "collapsed": false,
    "pycharm": {
     "name": "#%%\n"
    }
   }
  },
  {
   "cell_type": "code",
   "execution_count": null,
   "outputs": [],
   "source": [
    "# Exemplo 8\n",
    "# adicionando elementos com funcoes - .append\n",
    "\n",
    "numbers = [2,4,6,8]    # criando lista\n",
    "numbers.append(10)     # adicionando elemento novo na lista, ele vai para o final\n",
    "print(numbers)\n",
    "\n",
    "numbers[2] = 5    # substituimos o elemento 6 que esta na posicao 2, pelo 5\n",
    "print(numbers)    # geramos um print em uma nova lista"
   ],
   "metadata": {
    "collapsed": false,
    "pycharm": {
     "name": "#%%\n"
    }
   }
  },
  {
   "cell_type": "code",
   "execution_count": null,
   "outputs": [],
   "source": [
    "# Exemplo 9\n",
    "# adicionando elementos com a funcao - .extend\n",
    "\n",
    "t1 = [\"a\", \"b\", \"c\"]\n",
    "t2 = [\"d\", \"e\"]\n",
    "print(t1)\n",
    "t1.extend(t2)           # junta a lista 2 dentro da lista 1\n",
    "print(t1)"
   ],
   "metadata": {
    "collapsed": false,
    "pycharm": {
     "name": "#%%\n"
    }
   }
  },
  {
   "cell_type": "code",
   "execution_count": null,
   "outputs": [],
   "source": [
    "# Exemplo 10\n",
    "# ordenando elementos com a funcao - .sort.\n",
    "\n",
    "t = [\"u\", \"f\", \"a\", \"c\",\"q\", \"d\"]\n",
    "print(t)\n",
    "t.sort()                # essa funcao ordena strings\n",
    "print(t)\n",
    "\n",
    "p = [1,4,3,5,2,6,9,6]\n",
    "print(p)\n",
    "p.sort()                # essa funcao ordena valores inteiros\n",
    "print(p)\n"
   ],
   "metadata": {
    "collapsed": false,
    "pycharm": {
     "name": "#%%\n"
    }
   }
  },
  {
   "cell_type": "code",
   "execution_count": null,
   "outputs": [],
   "source": [
    "# Exemplo 11\n",
    "# criando funcoes e usando em listas\n",
    "\n",
    "\n",
    "def add_all(u):\n",
    "    total = 0\n",
    "    for i in u:\n",
    "        total = total + i\n",
    "    return total\n",
    "\n",
    "t = [1,2,3]\n",
    "resultado = add_all(t)\n",
    "print(resultado)"
   ],
   "metadata": {
    "collapsed": false,
    "pycharm": {
     "name": "#%%\n"
    }
   }
  },
  {
   "cell_type": "code",
   "execution_count": null,
   "outputs": [],
   "source": [
    "# Exemplo 12\n",
    "# criando funcoes com listas e adicionando em uma nova lista se a string for maiuscula\n",
    "\n",
    "\n",
    "def only_upper(t):\n",
    "    lista_nova = []\n",
    "    for s in t:\n",
    "        if s.isupper():             # observe que essa funcao valida se o valor do elemento \"s\" é maiúsculo\n",
    "            lista_nova.append(s)    # isupper é um método que retorna TRUE se uma string contiver apenas letras maiusculas\n",
    "    return lista_nova\n",
    "\n",
    "\n",
    "lista = [\"a\", \"B\", \"c\", \"D\"]\n",
    "resultado = only_upper(lista)\n",
    "print(resultado)"
   ],
   "metadata": {
    "collapsed": false,
    "pycharm": {
     "name": "#%%\n"
    }
   }
  },
  {
   "cell_type": "code",
   "execution_count": null,
   "outputs": [],
   "source": [
    "# Exemplo 12\n",
    "# como excluir elementos de uma lista usando a função .pop, quando sabendo o índice (usado quando a lista é curta)\n",
    "\n",
    "t = [\"a\",\"b\",\"c\"]\n",
    "x = t.pop(1)     # observe que o elemento 1 da lista (b) foi excluído\n",
    "print(t)         # retorna a lista sem o (b)\n",
    "print(x)         # printa o elemento que saíu, no caso, o (b)\n",
    "\n",
    "# Exemplo 12\n",
    "# como excluir elementos de uma lista usando .remove, quando não sabemos o índice que se encontra o elemento\n",
    "\n",
    "w = [\"a\",\"b\",\"c\"]\n",
    "v = w.remove(\"c\")     # observe que o elemento 1 da lista (b) foi excluído\n",
    "print(w)         # retorna a lista sem o (b)"
   ],
   "metadata": {
    "collapsed": false,
    "pycharm": {
     "name": "#%%\n"
    }
   }
  },
  {
   "cell_type": "code",
   "execution_count": null,
   "outputs": [],
   "source": [
    "# Exemplo 13\n",
    "# passando por uma lista e imprimindo os valores dela\n",
    "# observe que no segundo print, ele apenas imprimi o último i, que no caso é o elemento \"ok\". quando fizemos o print dentro do laco, ele imprime \"oi\", \"re\", \"ok\"\n",
    "\n",
    "Lista = [\"oi\", \"re\", \"ok\"]\n",
    "for a in Lista:\n",
    "    print(a)\n",
    "print(a)"
   ],
   "metadata": {
    "collapsed": false,
    "pycharm": {
     "name": "#%%\n"
    }
   }
  },
  {
   "cell_type": "code",
   "execution_count": null,
   "outputs": [],
   "source": [
    "# Exemplo 14\n",
    "# criando uma lista e adicionando valores nela\n",
    "\n",
    "lista = []\n",
    "\n",
    "for i in range(2):\n",
    "    num = int(input(\"Digite o numero: \"))\n",
    "    lista.append(num)\n",
    "    print(lista)"
   ],
   "metadata": {
    "collapsed": false,
    "pycharm": {
     "name": "#%%\n"
    }
   }
  },
  {
   "cell_type": "code",
   "execution_count": null,
   "outputs": [],
   "source": [
    "# Exemplo 15\n",
    "# criando uma lista e adicionando valores nela caso seja pares\n",
    "# criando uma lista vazia e adicionado elementos nela caso seja par no intervalo da posicao 0 até 4 (pois o 5 nao entra)\n",
    "# se quisessemos que o 5 entrasse, deveriamos colocar o 6\n",
    "\n",
    "lista = []\n",
    "\n",
    "for i in range(5):      # observe que aqui ele faz 4 vezes o laço, pois o range 5 é sempre um valor antes, no caso, 4\n",
    "    num = int(input(\"Digite o numero: \"))\n",
    "    if num % 2 == 0:\n",
    "        lista.append(num)\n",
    "        print(lista)"
   ],
   "metadata": {
    "collapsed": false,
    "pycharm": {
     "name": "#%%\n"
    }
   }
  },
  {
   "cell_type": "code",
   "execution_count": null,
   "outputs": [],
   "source": [
    "# Exemplo 16\n",
    "# Multiplicando por 2 o elemento da posicao 2 (no caso por 6 vezes) e somando acumulado\n",
    "\n",
    "lista = [2,4,6,8,10]\n",
    "soma = 0\n",
    "\n",
    "for i in range(len(lista)):\n",
    "    soma = soma + lista[2] * 3\n",
    "    print(soma)"
   ],
   "metadata": {
    "collapsed": false,
    "pycharm": {
     "name": "#%%\n"
    }
   }
  },
  {
   "cell_type": "code",
   "execution_count": null,
   "outputs": [],
   "source": [
    "# Exemplo 17\n",
    "# para cada elemento do tamanho da lista (6), validamos se é maior que zero e retornamos se é verdadeiro\n",
    "\n",
    "lista_3 = [20,30,40,50,35,45]\n",
    "print(lista_3)\n",
    "\n",
    "for l in range(len(lista_3)):\n",
    "    if lista_3[l] > 10:\n",
    "        print(\"true\")\n",
    "    else:\n",
    "        print(\"false\")"
   ],
   "metadata": {
    "collapsed": false,
    "pycharm": {
     "name": "#%%\n"
    }
   }
  },
  {
   "cell_type": "code",
   "execution_count": null,
   "outputs": [],
   "source": [
    "# Exemplo 18\n",
    "# para cada elemento do tamanho da lista (4), executa-se o loop para cada elemento dentro de numbers, multiplicando\n",
    "# por 2 o valor da posição, um de cada vez\n",
    "\n",
    "numbers = [2,4,6,8]      # tamanho da lista é 4\n",
    "for k in range(len(numbers)):\n",
    "    numbers[k] = numbers[k] * 2  # esse loop faz para cada elemento dentro de numbers, multiplicar por 2, um de cada vez\n",
    "    print(numbers)               # esse print faz aparecer cada loop com o seu resultado dentro da lista"
   ],
   "metadata": {
    "collapsed": false,
    "pycharm": {
     "name": "#%%\n"
    }
   }
  },
  {
   "cell_type": "code",
   "execution_count": null,
   "outputs": [],
   "source": [
    "# Exemplo 19\n",
    "# para cada elemento do tamanho da lista (4), executa-se o loop para cada elemento dentro de numbers, multiplicando\n",
    "# por 2 o valor da posição, um de cada vez\n",
    "\n",
    "soma = 0\n",
    "numbers = [2,4,6,8]      # tamanho da lista é 4\n",
    "for k in range(len(numbers)):\n",
    "    numbers[k] = numbers[k] * 2  # esse loop faz para cada elemento dentro de numbers, multiplicar por 2, um de cada vez\n",
    "    print(numbers)               # esse print faz aparecer cada loop com o seu resultado dentro da lista\n",
    "    soma = soma + numbers[k]\n",
    "    print(numbers)"
   ],
   "metadata": {
    "collapsed": false,
    "pycharm": {
     "name": "#%%\n"
    }
   }
  },
  {
   "cell_type": "code",
   "execution_count": null,
   "outputs": [],
   "source": [],
   "metadata": {
    "collapsed": false,
    "pycharm": {
     "name": "#%%\n"
    }
   }
  },
  {
   "cell_type": "code",
   "execution_count": null,
   "outputs": [],
   "source": [],
   "metadata": {
    "collapsed": false,
    "pycharm": {
     "name": "#%%\n"
    }
   }
  }
 ],
 "metadata": {
  "kernelspec": {
   "display_name": "Python 3",
   "language": "python",
   "name": "python3"
  },
  "language_info": {
   "codemirror_mode": {
    "name": "ipython",
    "version": 2
   },
   "file_extension": ".py",
   "mimetype": "text/x-python",
   "name": "python",
   "nbconvert_exporter": "python",
   "pygments_lexer": "ipython2",
   "version": "2.7.6"
  }
 },
 "nbformat": 4,
 "nbformat_minor": 0
}