{
 "cells": [
  {
   "cell_type": "code",
   "execution_count": null,
   "metadata": {
    "collapsed": true,
    "pycharm": {
     "name": "#%%\n"
    }
   },
   "outputs": [],
   "source": []
  },
  {
   "cell_type": "code",
   "execution_count": null,
   "outputs": [],
   "source": [
    "dicionario = {}\n",
    "\n",
    "# adicionando elementos no dicionario\n",
    "for i in range(2):\n",
    "    nome = input(\"Digite o nome do corredor: \")\n",
    "    lista = []\n",
    "    for j in range(4):\n",
    "        tempo = float(input(\"Digite o tempo em segundos: \"))\n",
    "        lista.append(tempo)\n",
    "    dicionario[nome] = lista\n",
    "\n",
    "print(dicionario)"
   ],
   "metadata": {
    "collapsed": false,
    "pycharm": {
     "name": "#%%\n"
    }
   }
  },
  {
   "cell_type": "code",
   "execution_count": null,
   "outputs": [],
   "source": [
    "# calculando o valor mínimo\n",
    "for i in range(3):\n",
    "    nome_corredor = input(\"Digite o nome de um corredor: \")\n",
    "    if nome_corredor not in dicionario:\n",
    "        print(f\" Nome do corredor inválido\")\n",
    "    else:\n",
    "    # retorna a lista de voltas daquele corredor\n",
    "        voltas = dicionario[nome_corredor]\n",
    "        nota_min = min(voltas)\n",
    "        volta = voltas.index(nota_min) + 1\n",
    "        print(nota_min, nome_corredor, volta)\n",
    "\n",
    "        # a solução abaixo é pior, traz mais complexidade\n",
    "        for volta in range(4):  # 0, 1, 2, 3\n",
    "            if voltas[volta] == nota_min:\n",
    "                    print(nota_min, nome_corredor, volta + 1)"
   ],
   "metadata": {
    "collapsed": false,
    "pycharm": {
     "name": "#%%\n"
    }
   }
  },
  {
   "cell_type": "code",
   "execution_count": 1,
   "outputs": [
    {
     "name": "stdout",
     "output_type": "stream",
     "text": [
      "a 179.0\n",
      "b 159.0\n",
      "c 169.0\n",
      "a\n",
      "b\n",
      "c\n",
      "[40.0, 55.0, 24.0, 60.0]\n",
      "[20.0, 55.0, 24.0, 60.0]\n",
      "[30.0, 55.0, 24.0, 60.0]\n"
     ]
    }
   ],
   "source": [
    "dicionario = {\n",
    "    'a': [40.0, 55.0, 24.0, 60.0],\n",
    "    'b': [20.0, 55.0, 24.0, 60.0],\n",
    "    'c': [30.0, 55.0, 24.0, 60.0]\n",
    "}\n",
    "\n",
    "# itera pelas chaves e pelos valores\n",
    "for nome, voltas in dicionario.items():\n",
    "    print(nome, sum(voltas))\n",
    "\n",
    "# itera apenas pelas chaves\n",
    "# for nome in dicionario.keys():\n",
    "for nome in dicionario:\n",
    "    print(nome)\n",
    "\n",
    "# itera apenas pelos valores\n",
    "for voltas in dicionario.values():\n",
    "    print(voltas)"
   ],
   "metadata": {
    "collapsed": false,
    "pycharm": {
     "name": "#%%\n"
    }
   }
  },
  {
   "cell_type": "code",
   "execution_count": null,
   "outputs": [],
   "source": [
    "def exercicio3():\n",
    "    def soma(a, b):\n",
    "        return a + b\n",
    "\n",
    "    def sub(a, b):\n",
    "        return a - b\n",
    "\n",
    "    operacoes = {\n",
    "        \"+\": soma,\n",
    "        \"-\": sub\n",
    "    }\n",
    "\n",
    "    valor1 = float(input(\"Informe um número: \"))\n",
    "    valor2 = float(input(\"Informe outro número: \"))\n",
    "    oper = input(\"Informe a operação: \")\n",
    "\n",
    "    print(operacoes[\"+\"])\n",
    "    print(operacoes[\"-\"])\n",
    "\n",
    "    print(operacoes[oper](valor1, valor2))"
   ],
   "metadata": {
    "collapsed": false,
    "pycharm": {
     "name": "#%%\n"
    }
   }
  },
  {
   "cell_type": "code",
   "execution_count": null,
   "outputs": [],
   "source": [
    "def exercicio4():\n",
    "    def erro_consulta_dic(chave):\n",
    "        return f\"Erro! {chave} não encontrado(a)!\"\n",
    "\n",
    "    alunos = {\n",
    "        \"123\": {\n",
    "            \"nome\": \"aaa\",\n",
    "            \"nasc\": \"10/10/2000\",\n",
    "            \"notas\": [6.5, 7.8, 8.3]\n",
    "        }\n",
    "    }\n",
    "\n",
    "    print(alunos[\"123\"][\"nome\"])\n",
    "    print(alunos[\"123\"][\"nasc\"])\n",
    "    print(alunos[\"123\"][\"notas\"])\n",
    "\n",
    "    if \"456\" in alunos:\n",
    "        print(alunos[\"456\"])\n",
    "\n",
    "    print(alunos.get(\"456\", erro_consulta_dic(\"456\")))\n",
    "    print(alunos.get(\"456\"))"
   ],
   "metadata": {
    "collapsed": false,
    "pycharm": {
     "name": "#%%\n"
    }
   }
  },
  {
   "cell_type": "code",
   "execution_count": null,
   "outputs": [],
   "source": [
    "def exercicio5():\n",
    "    \"\"\"\n",
    "    Escreva um programa que leia uma string do teclado e retorne uma tabela com a\n",
    "    frequência com que cada letra aparece na string. Ignore se as letras são\n",
    "    maiúsculas ou minúsculas. O dicionário deve ser criado em tempo de execução.\n",
    "    \"\"\"\n",
    "    texto = input(\"Informe um texto: \").lower()  # \"palavra\"\n",
    "\n",
    "    frequencia_letras = {}\n",
    "\n",
    "    for letra in texto:\n",
    "        if letra not in frequencia_letras:\n",
    "            frequencia_letras[letra] = texto.count(letra)\n",
    "\n",
    "    \"\"\"\n",
    "    letra -> \"p\"\n",
    "    frequencia_letras[\"p\"] = 1\n",
    "\n",
    "    letra -> \"a\"\n",
    "    frequencia_letras[\"a\"] = 3\n",
    "\n",
    "    letra -> \"l\"\n",
    "    frequencia_letras[\"l\"] = 1\n",
    "\n",
    "    letra -> \"a\"\n",
    "    letra -> \"v\"\n",
    "    frequencia_letras[\"v\"] = 1\n",
    "\n",
    "    letra -> \"r\"\n",
    "    frequencia_letras[\"r\"] = 1\n",
    "\n",
    "    letra -> \"a\"\n",
    "    \"\"\"\n",
    "\n",
    "    # outra solução\n",
    "    # https://docs.python.org/3/library/stdtypes.html#set-types-set-frozenset\n",
    "    for letra in set(texto):\n",
    "        frequencia_letras[letra] = texto.count(letra)\n",
    "\n",
    "    print(frequencia_letras)"
   ],
   "metadata": {
    "collapsed": false,
    "pycharm": {
     "name": "#%%\n"
    }
   }
  },
  {
   "cell_type": "code",
   "execution_count": 2,
   "outputs": [
    {
     "name": "stdout",
     "output_type": "stream",
     "text": [
      "a\n",
      "b\n",
      "c\n",
      "d\n",
      "a\n",
      "b\n",
      "c\n",
      "d\n",
      "0 a\n",
      "1 b\n",
      "2 c\n",
      "3 d\n",
      "0\n",
      "1\n",
      "2\n",
      "3\n"
     ]
    }
   ],
   "source": [
    "lista = [\"a\", \"b\", \"c\", \"d\"]\n",
    "\n",
    "for elemento in lista:\n",
    "    print(elemento)\n",
    "\n",
    "for indice in range(len(lista)):\n",
    "    print(lista[indice])\n",
    "\n",
    "for indice, elemento in enumerate(lista):\n",
    "    print(indice, elemento)\n",
    "\n",
    "for indice, _ in enumerate(lista):\n",
    "    print(indice)"
   ],
   "metadata": {
    "collapsed": false,
    "pycharm": {
     "name": "#%%\n"
    }
   }
  },
  {
   "cell_type": "code",
   "execution_count": 6,
   "outputs": [
    {
     "name": "stdout",
     "output_type": "stream",
     "text": [
      "a 7\n",
      "b 8\n",
      "c 9\n",
      "d 19\n",
      "a\n",
      "7\n"
     ]
    }
   ],
   "source": [
    "alunos = [\"a\", \"b\", \"c\", \"d\"]\n",
    "notas = [7,8,9,19]\n",
    "\n",
    "for i, aluno in enumerate(alunos):\n",
    "    print(aluno, notas[i])\n",
    "\n",
    "notas2 = [[\"a\", 7], [\"b\", 8], [\"c\",9]]\n",
    "print(notas2[0][0])\n",
    "print(notas2[0][1])"
   ],
   "metadata": {
    "collapsed": false,
    "pycharm": {
     "name": "#%%\n"
    }
   }
  },
  {
   "cell_type": "code",
   "execution_count": null,
   "outputs": [],
   "source": [],
   "metadata": {
    "collapsed": false,
    "pycharm": {
     "name": "#%%\n"
    }
   }
  }
 ],
 "metadata": {
  "kernelspec": {
   "display_name": "Python 3",
   "language": "python",
   "name": "python3"
  },
  "language_info": {
   "codemirror_mode": {
    "name": "ipython",
    "version": 2
   },
   "file_extension": ".py",
   "mimetype": "text/x-python",
   "name": "python",
   "nbconvert_exporter": "python",
   "pygments_lexer": "ipython2",
   "version": "2.7.6"
  }
 },
 "nbformat": 4,
 "nbformat_minor": 0
}