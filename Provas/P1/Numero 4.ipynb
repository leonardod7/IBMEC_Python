{
 "cells": [
  {
   "cell_type": "code",
   "execution_count": null,
   "metadata": {
    "collapsed": true,
    "pycharm": {
     "name": "#%%\n"
    }
   },
   "outputs": [],
   "source": [
    "# Entrada\n",
    "Soma_Exclu = 0\n",
    "Soma_Plat = 0\n",
    "Cambio = 5.65\n",
    "Dias = 4"
   ]
  },
  {
   "cell_type": "code",
   "execution_count": null,
   "outputs": [],
   "source": [
    "# Processamento\n",
    "for i in range(Dias):\n",
    "    Tipo_Cartao = float(input(\"Digite o tipo de cartão (1 - Exclusive 2 - Platinum): \"))\n",
    "    Gasto_Diario = float(input(\" Digite o gasto Diario em Reais do Cartao: \"))\n",
    "    if Tipo_Cartao == 1:\n",
    "        Soma_Exclu = Gasto_Diario + Soma_Exclu\n",
    "        Total_Gasto_USD_Exclu = Soma_Exclu / Cambio\n",
    "        Total_Milhas_Exclu = Total_Gasto_USD_Exclu * 1.5\n",
    "    else:\n",
    "        Soma_Plat = Gasto_Diario + Soma_Plat\n",
    "        Total_Gasto_USD_Plat = Soma_Plat / Cambio\n",
    "        Total_Milhas_Plat = Total_Gasto_USD_Plat * 2.0"
   ],
   "metadata": {
    "collapsed": false,
    "pycharm": {
     "name": "#%%\n"
    }
   }
  },
  {
   "cell_type": "code",
   "execution_count": null,
   "outputs": [],
   "source": [
    "# Saida\n",
    "print(f\" a Quantidade de Milhas Recebidas no Cartão Exclusive é de: {Total_Milhas_Exclu} \")\n",
    "print(f\" o valor total em reais gastos no Cartão Exclusive é de:  {Soma_Exclu} \")\n",
    "print(f\" a Quantidade de Milhas Recebidas no Cartão platinum é de: {Total_Milhas_Plat} \")\n",
    "print(f\" o valor total em reais gastos no Cartão Exclusive é de:  {Soma_Plat} \")"
   ],
   "metadata": {
    "collapsed": false,
    "pycharm": {
     "name": "#%%\n"
    }
   }
  }
 ],
 "metadata": {
  "kernelspec": {
   "display_name": "Python 3",
   "language": "python",
   "name": "python3"
  },
  "language_info": {
   "codemirror_mode": {
    "name": "ipython",
    "version": 2
   },
   "file_extension": ".py",
   "mimetype": "text/x-python",
   "name": "python",
   "nbconvert_exporter": "python",
   "pygments_lexer": "ipython2",
   "version": "2.7.6"
  }
 },
 "nbformat": 4,
 "nbformat_minor": 0
}