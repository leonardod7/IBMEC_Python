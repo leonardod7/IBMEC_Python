{
 "cells": [
  {
   "cell_type": "code",
   "execution_count": null,
   "metadata": {
    "collapsed": true,
    "pycharm": {
     "name": "#%%\n"
    }
   },
   "outputs": [],
   "source": [
    "# Questão 1\n",
    "\n",
    "# Uma receita de biscoito de aveia exige os seguintes ingredientes para produzir 800 gramas de massa:\n",
    "      # a. 125 gramas de açúcar\n",
    "      # b. 150 gramas de manteiga\n",
    "      # c. 225 gramas de farinha\n",
    "      # d. 300 gramas de aveia\n",
    "# Sabe-se que cada biscoito pesa 50 gramas. Faça um programa Python que pergunte ao usuário quantos quilos (kg) de ‘biscoito’ ele deseja fazer. Calcule e exiba a quantidade (em gramas) correspondente de cada ingrediente e a quantidade de ‘biscoito’ que serão produzidas.\n"
   ]
  },
  {
   "cell_type": "code",
   "execution_count": null,
   "outputs": [],
   "source": [
    "# Entrada - valores em % do peso para 800 gramas\n",
    "perc_acucar = 0.15625\n",
    "perc_manteiga = 0.1875\n",
    "perc_farinha = 0.28125\n",
    "perc_aveia = 0.375\n",
    "gramas_biscoito = 50\n",
    "Qtde_Kg = float(input(\" Quantos kg de biscoito vc deseja fazer?: \"))\n"
   ],
   "metadata": {
    "collapsed": false,
    "pycharm": {
     "name": "#%%\n"
    }
   }
  },
  {
   "cell_type": "code",
   "execution_count": null,
   "outputs": [],
   "source": [
    "# Processamento\n",
    "Gramas_Total = Qtde_Kg * 1000\n",
    "Qtde_Biscoitos = Gramas_Total / gramas_biscoito\n",
    "\n",
    "Qtde_Acucar = Gramas_Total * perc_acucar\n",
    "Qtde_Manteiga = Gramas_Total * perc_manteiga\n",
    "Qtde_Farinha = Gramas_Total * perc_farinha\n",
    "Qtde_Aveia = Gramas_Total * perc_aveia\n"
   ],
   "metadata": {
    "collapsed": false,
    "pycharm": {
     "name": "#%%\n"
    }
   }
  },
  {
   "cell_type": "code",
   "execution_count": null,
   "outputs": [],
   "source": [
    "# Saida\n",
    "print(f\" a quantidade total de açúcar é de: {Qtde_Acucar} \")\n",
    "print(f\" a quantidade total de manteiga é de: {Qtde_Manteiga} \")\n",
    "print(f\" a quantidade total de farinha é de: {Qtde_Farinha} \")\n",
    "print(f\" a quantidade total de aveia é de: {Qtde_Aveia} \")\n",
    "print(f\" a quantidade total de biscoitos é de : {Qtde_Biscoitos} \")\n"
   ],
   "metadata": {
    "collapsed": false,
    "pycharm": {
     "name": "#%%\n"
    }
   }
  }
 ],
 "metadata": {
  "kernelspec": {
   "display_name": "Python 3",
   "language": "python",
   "name": "python3"
  },
  "language_info": {
   "codemirror_mode": {
    "name": "ipython",
    "version": 2
   },
   "file_extension": ".py",
   "mimetype": "text/x-python",
   "name": "python",
   "nbconvert_exporter": "python",
   "pygments_lexer": "ipython2",
   "version": "2.7.6"
  }
 },
 "nbformat": 4,
 "nbformat_minor": 0
}