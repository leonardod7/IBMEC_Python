{
 "cells": [
  {
   "cell_type": "code",
   "execution_count": null,
   "metadata": {
    "collapsed": true,
    "pycharm": {
     "name": "#%%\n"
    }
   },
   "outputs": [],
   "source": [
    "# Questão 3\n",
    "\n",
    "# Os cientistas acabam de descobrir que uma determinada colônia de bactérias é capaz de aumentar anualmente o seu peso em 2.03%. Faça um programa que leia o ano de coleta do material e o o peso em gramas da colônia, determine e exibe os pesos anuais até o ano atual (2022), como mostrado no exemplo abaixo. Ao final, exiba a soma de todos os pesos.\n",
    "\n",
    "# ano de coleta:2017\n",
    "# peso em gramas:1000\n",
    "\n",
    "# 2017  -  1000.00\n",
    "# 2018  -  1020.30\n",
    "# 2019  -  1041.01\n",
    "# 2020  -  1062.14\n",
    "# 2021  -  1083.71\n",
    "# 2022  -  1105.71\n"
   ]
  },
  {
   "cell_type": "code",
   "execution_count": 1,
   "outputs": [],
   "source": [
    "# Entrada\n",
    "\n",
    "Ano_Coleta = int(input(\"Digite o Ano da Coleta: \"))\n",
    "Peso_Gramas = float(input(\"Digite o Peso em Gramas: \"))\n",
    "Txa = 0.0203\n",
    "Peso = 0\n"
   ],
   "metadata": {
    "collapsed": false,
    "pycharm": {
     "name": "#%%\n"
    }
   }
  },
  {
   "cell_type": "code",
   "execution_count": 2,
   "outputs": [
    {
     "name": "stdout",
     "output_type": "stream",
     "text": [
      "2019\n",
      "20.406\n",
      "2020\n",
      "20.820241799999998\n",
      "2021\n",
      "21.242892708539998\n",
      "2022\n",
      "21.67412343052336\n",
      "2023\n",
      "22.114108136162983\n"
     ]
    }
   ],
   "source": [
    "# Processamento\n",
    "\n",
    "for i in range(0,5):\n",
    "\n",
    "    Ano_Coleta = Ano_Coleta + 1\n",
    "    Peso_Gramas = Peso_Gramas * (1+Txa)\n",
    "\n",
    "    print(Ano_Coleta)\n",
    "    print(Peso_Gramas)\n"
   ],
   "metadata": {
    "collapsed": false,
    "pycharm": {
     "name": "#%%\n"
    }
   }
  },
  {
   "cell_type": "code",
   "execution_count": null,
   "outputs": [],
   "source": [],
   "metadata": {
    "collapsed": false,
    "pycharm": {
     "name": "#%%\n"
    }
   }
  }
 ],
 "metadata": {
  "kernelspec": {
   "display_name": "Python 3",
   "language": "python",
   "name": "python3"
  },
  "language_info": {
   "codemirror_mode": {
    "name": "ipython",
    "version": 2
   },
   "file_extension": ".py",
   "mimetype": "text/x-python",
   "name": "python",
   "nbconvert_exporter": "python",
   "pygments_lexer": "ipython2",
   "version": "2.7.6"
  }
 },
 "nbformat": 4,
 "nbformat_minor": 0
}