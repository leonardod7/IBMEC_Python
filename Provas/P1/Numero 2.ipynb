{
 "cells": [
  {
   "cell_type": "code",
   "execution_count": null,
   "metadata": {
    "collapsed": true,
    "pycharm": {
     "name": "#%%\n"
    }
   },
   "outputs": [],
   "source": [
    "# Questão 2\n",
    "\n",
    "# A Pizzaria SóPedaços vende apenas fatias de suas deliciosas pizzas conforme tabela abaixo:\n",
    "\n",
    "# Código\tProduto\tPreço Unitário (R$)\n",
    "# 100\t\"Super Mozzarella\"\tR$ 17.00\n",
    "# 200\t\"Ms. Margheritta\"\tR$ 23.00\n",
    "# 300\t\"Special Picanha\"\tR$ 30.00\n",
    "# 400\t\"Detona Calabresa\" \tR$ 38.00\n",
    "\n",
    "# Faça um programa que leia o código e a quantidade do item que deseja adquirir, calcule e mostre o nome do produto, preço unitário, a quantidade e o valor a pagar, conforme exemplo abaixo. Os clientes que comprarem mais de 2 pedaços terá um desconto de 5% no preço final.\n"
   ]
  },
  {
   "cell_type": "code",
   "execution_count": 1,
   "outputs": [],
   "source": [
    "# Entrada\n",
    "Cod = float(input(\"Digite o Cod do item que deseja (100, 200, 300 ou 400): \"))\n",
    "Qtde = int(input(\"Digite a quantidade que deseja: \"))\n"
   ],
   "metadata": {
    "collapsed": false,
    "pycharm": {
     "name": "#%%\n"
    }
   }
  },
  {
   "cell_type": "code",
   "execution_count": 2,
   "outputs": [],
   "source": [
    "# Processamento\n",
    "if Cod == 100:\n",
    "    Fatia = \"Super Mozzarella\"\n",
    "    Preco_Fatia = 17\n",
    "elif Cod == 200:\n",
    "    Fatia = \"Ms.Margheritta\"\n",
    "    Preco_Fatia = 23\n",
    "elif Cod == 300:\n",
    "    Fatia = \"Special Picanha\"\n",
    "    Preco_Fatia = 30\n",
    "else:\n",
    "    Fatia = \"Detona Calabresa\"\n",
    "    Preco_Fatia = 38\n",
    "\n",
    "Total_Pedido = Qtde * Preco_Fatia\n",
    "if Qtde > 2:\n",
    "    Desconto = 0.05\n",
    "else:\n",
    "    Desconto = 0.00\n",
    "Desconto_Receber = Total_Pedido * Desconto\n",
    "Total_Pgto = Total_Pedido - Desconto_Receber\n"
   ],
   "metadata": {
    "collapsed": false,
    "pycharm": {
     "name": "#%%\n"
    }
   }
  },
  {
   "cell_type": "code",
   "execution_count": 3,
   "outputs": [
    {
     "name": "stdout",
     "output_type": "stream",
     "text": [
      " Fatia: Super Mozzarella \n",
      " Preço fatia: 17 \n",
      " Quantidade: 400 \n",
      " Total Pedido: 6800 \n",
      " Desconto: 340.0 \n",
      " Total a Pagar: 6460.0 \n"
     ]
    }
   ],
   "source": [
    "# Saida\n",
    "print(f\" Fatia: {Fatia} \")\n",
    "print(f\" Preço fatia: {Preco_Fatia} \")\n",
    "print(f\" Quantidade: {Qtde} \")\n",
    "print(f\" Total Pedido: {Total_Pedido} \")\n",
    "print(f\" Desconto: {Desconto_Receber} \")\n",
    "print(f\" Total a Pagar: {Total_Pgto} \")"
   ],
   "metadata": {
    "collapsed": false,
    "pycharm": {
     "name": "#%%\n"
    }
   }
  },
  {
   "cell_type": "code",
   "execution_count": null,
   "outputs": [],
   "source": [],
   "metadata": {
    "collapsed": false,
    "pycharm": {
     "name": "#%%\n"
    }
   }
  }
 ],
 "metadata": {
  "kernelspec": {
   "display_name": "Python 3",
   "language": "python",
   "name": "python3"
  },
  "language_info": {
   "codemirror_mode": {
    "name": "ipython",
    "version": 2
   },
   "file_extension": ".py",
   "mimetype": "text/x-python",
   "name": "python",
   "nbconvert_exporter": "python",
   "pygments_lexer": "ipython2",
   "version": "2.7.6"
  }
 },
 "nbformat": 4,
 "nbformat_minor": 0
}