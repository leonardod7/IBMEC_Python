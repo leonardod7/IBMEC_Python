{
 "cells": [
  {
   "cell_type": "code",
   "execution_count": 5,
   "outputs": [],
   "source": [
    "# para se trabalhar com a biblioteca numpy, precisamos realizar a sua importação"
   ],
   "metadata": {
    "collapsed": false,
    "pycharm": {
     "name": "#%%\n"
    }
   }
  },
  {
   "cell_type": "code",
   "execution_count": 1,
   "outputs": [],
   "source": [
    "import numpy as np"
   ],
   "metadata": {
    "collapsed": false,
    "pycharm": {
     "name": "#%%\n"
    }
   }
  },
  {
   "cell_type": "code",
   "execution_count": null,
   "outputs": [],
   "source": [
    "# Criando um array\n",
    "# Diferentemente das listas Python, os arrays numpy precisam ser criados antes de serem usados. A função append(), muito útli para a criação de listas em tempo\n",
    "# de execução, não existe no pacote NumPy. Para isso é necessária a utilização de funções que permitem a criação de arrays/Listas de várias maneiras.\n",
    "# A maneira mais simples é através da função np.array(lista/tupla). O tamanho e/ou as dimensões de matrizes devem ser informadas no momento da criação.\n",
    "# Pesquise as diferentes formas de criação de arrays NumPy"
   ],
   "metadata": {
    "collapsed": false,
    "pycharm": {
     "name": "#%%\n"
    }
   }
  },
  {
   "cell_type": "code",
   "execution_count": null,
   "outputs": [],
   "source": [
    "# 1) matriz vazia (empty) - utiliza-se a função.np.empty(dimensões/tamanho)\n",
    "# 2) matriz incializada com zeros: utiliza-se a função. np.zeros(dimensões/tamanho)\n",
    "# 3) matriz inicializada com o valor 1: utiliza-se a função. np.ones(dimensões/tamanho)\n",
    "# 4) com x elementos de um valor inicial até final: utiliza-se a função. np.array(Range(tamanho ou intervalo)) ou np.arange([inicio],fim,[tamanho intervalo])\n",
    "# 5) matriz inicializada com valores booleanos. np.ones (tamanho,dtype=bool) ou np.full(dimensão,preenchimento,dtype=bool)\n",
    "# 6) matriz inicializada com valores dentro de um intervalo, distribuídos uniformemente. np.linspace(inicio,fim,tamanho intervalo)\n",
    "# 7) matriz identidade: matriz quadrada inicializada com zeros exceto na diagonal formada por 1’s. np.identity(ordem da matriz).\n",
    "# 8) Matriz eye: cria uma matriz identidade bidimensional. np.eye(linhas, colunas)\n",
    "# 9) matriz full: Cria uma matriz com valor de preenchimento dado. np.full(dimensão, valorpreenchimento)"
   ],
   "metadata": {
    "collapsed": false,
    "pycharm": {
     "name": "#%%\n"
    }
   }
  },
  {
   "cell_type": "code",
   "execution_count": 2,
   "outputs": [
    {
     "name": "stdout",
     "output_type": "stream",
     "text": [
      "[0.00000000e+000 3.45845952e-323 6.95046708e-310 4.94065646e-324\n",
      " 5.21501687e-310 2.47032823e-323 1.42304404e+016 6.95046466e-310\n",
      " 2.17124729e-314 0.00000000e+000]\n"
     ]
    }
   ],
   "source": [
    "# Criando um array vazio: Utilizando o np.empty\n",
    "array = np.empty(10)\n",
    "print(array)"
   ],
   "metadata": {
    "collapsed": false,
    "pycharm": {
     "name": "#%%\n"
    }
   }
  },
  {
   "cell_type": "code",
   "execution_count": 8,
   "outputs": [
    {
     "name": "stdout",
     "output_type": "stream",
     "text": [
      "Flamengo e Fluminense fizeram 429 jogos \n",
      "Flamengo somou 611 pontos enquanto que o fluminense somou 539\n",
      "Flamengo fez 630 gols enquanti que o fluminense fez 571\n"
     ]
    }
   ],
   "source": [
    "# Exemplo de iteração usando o Array com a estrtura for\n",
    "\n",
    "flamengo = np.array([2,4,6,3,2,3,2,5,1,4,2,0,1,0,3,2,0,2,1,0,2,2,4,1,0,1,1,2,1,4,1,1,1,2,1,1,1,3,0,\n",
    "                     0,0,4,0,1,1,4,1,2,3,0,3,2,2,0,2,2,2,0,2,1,1,1,2,2,1,1,2,1,1,2,1,1,3,1,0,1,0,0,\n",
    "                     0,5,2,2,2,2,1,2,2,1,3,4,2,2,0,1,1,1,1,1,1,1,2,2,3,0,0,6,0,7,2,1,2,1,5,2,1,1,2,\n",
    "                     1,3,1,1,1,2,2,5,4,1,1,1,2,1,5,1,0,0,2,3,3,1,2,2,2,0,5,0,0,3,1,1,6,2,1,1,4,1,1,\n",
    "                     1,1,2,1,2,0,0,2,1,3,0,3,0,4,1,1,1,2,0,0,1,0,3,1,0,0,2,0,2,4,3,2,1,2,1,1,2,3,4,\n",
    "                     4,1,2,0,0,2,2,0,1,1,1,0,0,1,0,1,0,1,0,0,1,5,0,0,2,0,2,0,0,2,1,0,0,1,0,2,0,1,2,\n",
    "                     2,0,4,0,1,1,0,3,2,1,2,1,1,0,0,4,2,1,1,2,1,0,2,1,2,1,1,3,3,0,0,2,0,1,1,0,0,1,0,\n",
    "                     1,1,4,1,0,0,0,1,1,0,0,0,0,1,4,1,5,1,0,2,2,2,1,0,1,4,1,1,2,0,1,3,1,2,1,2,3,0,0,\n",
    "                     0,1,3,2,0,2,2,1,3,1,2,0,2,2,0,2,0,5,1,0,1,2,3,1,1,2,0,0,1,2,1,5,0,1,0,4,1,4,3,\n",
    "                     1,1,2,1,0,2,2,0,4,1,1,0,1,1,2,1,1,0,0,1,2,5,1,3,0,1,1,3,2,0,0,3,3,1,0,0,1,3,2,\n",
    "                     3,2,0,1,2,3,1,1,2,2,1,1,3,0,1,2,3,0,3,2,1,0,2,0,3,1,2,1,2,1,0,1,3,0,1,0,0,1,2])\n",
    "\n",
    "fluminense = np.array([3,0,3,0,0,2,1,0,1,1,2,0,3,2,3,2,3,2,3,4,1,2,3,1,1,1,1,2,1,2,3,1,1,0,0,1,4,2,\n",
    "                       1,1,1,2,2,2,0,0,1,1,1,2,1,2,3,2,0,1,1,0,2,3,2,2,2,2,1,0,0,2,1,2,4,1,4,4,1,1,\n",
    "                       1,3,2,2,2,1,1,1,2,1,3,1,1,1,4,2,0,2,0,1,1,5,0,3,0,2,1,1,0,1,4,0,1,1,3,3,2,5,\n",
    "                       1,4,1,1,3,1,1,1,1,5,0,0,1,2,1,1,2,2,2,1,1,3,0,1,1,3,1,1,1,2,0,3,3,3,2,1,3,0,\n",
    "                       0,1,2,3,2,0,1,3,0,0,2,1,1,1,2,4,0,1,0,0,0,0,0,0,1,1,3,0,0,0,2,0,1,1,2,2,3,0\n",
    "                       ,1,1,1,1,1,2,0,1,1,0,3,1,0,4,0,1,2,2,1,0,1,2,3,1,0,4,2,1,0,1,1,1,0,1,4,2,0,\n",
    "                       0,2,0,1,0,1,1,1,3,1,0,1,1,1,1,0,2,0,2,0,0,2,0,1,1,1,1,0,3,0,1,2,2,1,1,0,1,0,\n",
    "                       1,1,0,2,1,0,1,0,1,1,1,0,0,1,0,1,0,1,1,0,0,0,0,0,0,1,1,1,1,1,2,0,1,2,1,2,1,1,\n",
    "                       2,2,1,3,1,4,1,2,3,0,3,4,3,0,1,2,0,1,1,3,2,1,1,0,2,0,3,1,2,0,1,2,1,1,0,1,0,2,\n",
    "                       1,4,2,3,1,4,1,0,3,2,2,2,2,4,0,2,2,1,1,2,0,2,4,0,2,1,0,0,0,1,0,3,2,3,0,1,0,2,\n",
    "                       0,1,1,1,2,0,3,2,1,0,3,1,1,0,2,1,3,1,0,1,2,1,0,3,4,1,0,0,1,2,1,1,0,0,1,2,1,1,\n",
    "                       0,1,2,1,1,1,1,3,1,2,1,1])\n",
    "\n",
    "# se temos que perorrer cada elemento do array, temos que comparar cada valor na posicao i de um, com o outro\n",
    "\n",
    "pt_fla = 0\n",
    "pt_flu = 0\n",
    "for i in range(len(fluminense)):\n",
    "    if flamengo[i] > fluminense[i]:\n",
    "        pt_fla = pt_fla + 3     # cada vitoria sao 3 pontos\n",
    "    elif flamengo[i] < fluminense[i]:\n",
    "        pt_flu = pt_flu + 3\n",
    "    else:\n",
    "        pt_flu = pt_flu + 1\n",
    "        pt_fla = pt_fla + 1\n",
    "print(f\"Flamengo e Fluminense fizeram {len(fluminense)} jogos \")   # poderia ser len de fla\n",
    "print(f\"Flamengo somou {pt_fla} pontos enquanto que o fluminense somou {pt_flu}\")\n",
    "SomaGolsFla = sum(flamengo)\n",
    "SomaGolsFlu = sum(fluminense)\n",
    "print(f\"Flamengo fez {SomaGolsFla} gols enquanti que o fluminense fez {SomaGolsFlu}\")"
   ],
   "metadata": {
    "collapsed": false,
    "pycharm": {
     "name": "#%%\n"
    }
   }
  },
  {
   "cell_type": "code",
   "execution_count": null,
   "outputs": [],
   "source": [
    "# Exemplo de iteração usando o Array sem a necessidade do for (nesse caso, estamos de fato usando o poder do numpuy)"
   ],
   "metadata": {
    "collapsed": false,
    "pycharm": {
     "name": "#%%\n"
    }
   }
  },
  {
   "cell_type": "code",
   "execution_count": null,
   "outputs": [],
   "source": [
    "real = np.array([2,4,6,3,2,3,2,5,1,4,2,0,1,0,3,2,0,2,1,0,2,2,4,1,0,1,1,2,1,4,1,1,1,2,1,1,1,3,0,\n",
    "                     0,0,4,0,1,1,4,1,2,3,0,3,2,2,0,2,2,2,0,2,1,1,1,2,2,1,1,2,1,1,2,1,1,3,1,0,1,0,0,\n",
    "                     0,5,2,2,2,2,1,2,2,1,3,4,2,2,0,1,1,1,1,1,1,1,2,2,3,0,0,6,0,7,2,1,2,1,5,2,1,1,2,\n",
    "                     1,3,1,1,1,2,2,5,4,1,1,1,2,1,5,1,0,0,2,3,3,1,2,2,2,0,5,0,0,3,1,1,6,2,1,1,4,1,1,\n",
    "                     1,1,2,1,2,0,0,2,1,3,0,3,0,4,1,1,1,2,0,0,1,0,3,1,0,0,2,0,2,4,3,2,1,2,1,1,2,3,4,\n",
    "                     4,1,2,0,0,2,2,0,1,1,1,0,0,1,0,1,0,1,0,0,1,5,0,0,2,0,2,0,0,2,1,0,0,1,0,2,0,1,2,\n",
    "                     2,0,4,0,1,1,0,3,2,1,2,1,1,0,0,4,2,1,1,2,1,0,2,1,2,1,1,3,3,0,0,2,0,1,1,0,0,1,0,\n",
    "                     1,1,4,1,0,0,0,1,1,0,0,0,0,1,4,1,5,1,0,2,2,2,1,0,1,4,1,1,2,0,1,3,1,2,1,2,3,0,0,\n",
    "                     0,1,3,2,0,2,2,1,3,1,2,0,2,2,0,2,0,5,1,0,1,2,3,1,1,2,0,0,1,2,1,5,0,1,0,4,1,4,3,\n",
    "                     1,1,2,1,0,2,2,0,4,1,1,0,1,1,2,1,1,0,0,1,2,5,1,3,0,1,1,3,2,0,0,3,3,1,0,0,1,3,2,\n",
    "                     3,2,0,1,2,3,1,1,2,2,1,1,3,0,1,2,3,0,3,2,1,0,2,0,3,1,2,1,2,1,0,1,3,0,1,0,0,1,2])\n",
    "\n",
    "barcelona = np.array([3,0,3,0,0,2,1,0,1,1,2,0,3,2,3,2,3,2,3,4,1,2,3,1,1,1,1,2,1,2,3,1,1,0,0,1,4,2,\n",
    "                       1,1,1,2,2,2,0,0,1,1,1,2,1,2,3,2,0,1,1,0,2,3,2,2,2,2,1,0,0,2,1,2,4,1,4,4,1,1,\n",
    "                       1,3,2,2,2,1,1,1,2,1,3,1,1,1,4,2,0,2,0,1,1,5,0,3,0,2,1,1,0,1,4,0,1,1,3,3,2,5,\n",
    "                       1,4,1,1,3,1,1,1,1,5,0,0,1,2,1,1,2,2,2,1,1,3,0,1,1,3,1,1,1,2,0,3,3,3,2,1,3,0,\n",
    "                       0,1,2,3,2,0,1,3,0,0,2,1,1,1,2,4,0,1,0,0,0,0,0,0,1,1,3,0,0,0,2,0,1,1,2,2,3,0\n",
    "                       ,1,1,1,1,1,2,0,1,1,0,3,1,0,4,0,1,2,2,1,0,1,2,3,1,0,4,2,1,0,1,1,1,0,1,4,2,0,\n",
    "                       0,2,0,1,0,1,1,1,3,1,0,1,1,1,1,0,2,0,2,0,0,2,0,1,1,1,1,0,3,0,1,2,2,1,1,0,1,0,\n",
    "                       1,1,0,2,1,0,1,0,1,1,1,0,0,1,0,1,0,1,1,0,0,0,0,0,0,1,1,1,1,1,2,0,1,2,1,2,1,1,\n",
    "                       2,2,1,3,1,4,1,2,3,0,3,4,3,0,1,2,0,1,1,3,2,1,1,0,2,0,3,1,2,0,1,2,1,1,0,1,0,2,\n",
    "                       1,4,2,3,1,4,1,0,3,2,2,2,2,4,0,2,2,1,1,2,0,2,4,0,2,1,0,0,0,1,0,3,2,3,0,1,0,2,\n",
    "                       0,1,1,1,2,0,3,2,1,0,3,1,1,0,2,1,3,1,0,1,2,1,0,3,4,1,0,0,1,2,1,1,0,0,1,2,1,1,\n",
    "                       0,1,2,1,1,1,1,3,1,2,1,1])\n",
    "\n",
    "# Observe que acima, não utilizamos nenhum conceito de numpy, exceto o array.\n",
    "# O objetivo do arrray é de fato podermos iterar sobre os elementos sem usar o for.\n",
    "\n",
    "saldo_gols = real - barcelona\n",
    "\n",
    "empates = len(saldo_gols[saldo_gols == 0])\n",
    "vitorias_real = len(saldo_gols[saldo_gols > 0])\n",
    "vitorias_barca = len(saldo_gols[saldo_gols < 0])\n",
    "\n",
    "pontos_real = empates + 3 * vitorias_real\n",
    "pontos_barca = empates + 3 * vitorias_barca\n",
    "\n",
    "print(\"Empates:\", empates)\n",
    "print(\"Real: vitórias\", vitorias_real, \"pontos\", pontos_real)\n",
    "print(\"Barcelona: vitórias\", vitorias_barca, \"pontos\", pontos_barca)"
   ],
   "metadata": {
    "collapsed": false,
    "pycharm": {
     "name": "#%%\n"
    }
   }
  },
  {
   "cell_type": "code",
   "execution_count": null,
   "outputs": [],
   "source": [
    "# se quisermos criar um contador, nao podemos usar o empty\n",
    "# para percorrermos celula a celula dentro de uma matriz, precisamos de for dentro do for\n",
    "# unidimencional, temos 1 for, bidimencional temos 2 for, tridimencional temos 3 for, sempre um for dentro do outro"
   ],
   "metadata": {
    "collapsed": false,
    "pycharm": {
     "name": "#%%\n"
    }
   }
  },
  {
   "cell_type": "code",
   "execution_count": 9,
   "outputs": [
    {
     "name": "stdout",
     "output_type": "stream",
     "text": [
      "[[0. 0. 0. 0.]\n",
      " [0. 0. 0. 0.]\n",
      " [0. 0. 0. 0.]]\n"
     ]
    }
   ],
   "source": [
    "# Criando uma matriz vazia com 3 linhas e 4 colunas\n",
    "\n",
    "matriz = np.zeros([3,4])\n",
    "print(matriz)\n"
   ],
   "metadata": {
    "collapsed": false,
    "pycharm": {
     "name": "#%%\n"
    }
   }
  },
  {
   "cell_type": "code",
   "execution_count": 11,
   "outputs": [
    {
     "name": "stdout",
     "output_type": "stream",
     "text": [
      "[[1. 1. 1. 1.]\n",
      " [1. 1. 1. 1.]\n",
      " [1. 1. 1. 1.]]\n"
     ]
    }
   ],
   "source": [
    "# Criando uma matriz de 3 linhas e 4 colunas usando a função ones. A função ones coloca 1 em todas as linhas\n",
    "matriz = np.ones([3,4])\n",
    "print(matriz)"
   ],
   "metadata": {
    "collapsed": false,
    "pycharm": {
     "name": "#%%\n"
    }
   }
  },
  {
   "cell_type": "code",
   "execution_count": 12,
   "outputs": [
    {
     "name": "stdout",
     "output_type": "stream",
     "text": [
      "[[1. 0. 0. 0. 0.]\n",
      " [0. 1. 0. 0. 0.]\n",
      " [0. 0. 1. 0. 0.]\n",
      " [0. 0. 0. 1. 0.]\n",
      " [0. 0. 0. 0. 1.]]\n"
     ]
    }
   ],
   "source": [
    "# Criando uma matriz de 5 linhas e 5 colunas, usando o eye.Essa funcao eye, coloca os valores 1 na diagonal\n",
    "matriz = np.eye(5,5)\n",
    "print(matriz)\n"
   ],
   "metadata": {
    "collapsed": false,
    "pycharm": {
     "name": "#%%\n"
    }
   }
  },
  {
   "cell_type": "code",
   "execution_count": 13,
   "outputs": [
    {
     "name": "stdout",
     "output_type": "stream",
     "text": [
      "[1 6 6 1]\n"
     ]
    }
   ],
   "source": [
    "# A função diag retorna os valores na diagonal em uma matriz\n",
    "mat = np.array([[1,2,3,4],\n",
    "                [5,6,7,8],\n",
    "                [8,7,6,5],\n",
    "                [4,3,2,1]])\n",
    "diag = np.diag(mat)\n",
    "print(diag)"
   ],
   "metadata": {
    "collapsed": false,
    "pycharm": {
     "name": "#%%\n"
    }
   }
  },
  {
   "cell_type": "code",
   "execution_count": 14,
   "outputs": [
    {
     "name": "stdout",
     "output_type": "stream",
     "text": [
      "[1 2 3 4 5 6 7 8]\n",
      "vetor1D=  (8,)\n",
      "vetor2D=  (4, 4)\n",
      "1\n",
      "2\n",
      "3\n",
      "4\n",
      "2\n",
      "3\n",
      "4\n",
      "5\n",
      "3\n",
      "4\n",
      "5\n",
      "6\n",
      "4\n",
      "5\n",
      "6\n",
      "7\n"
     ]
    }
   ],
   "source": [
    "# Matriz unidimencional\n",
    "z = np.array([1,2,3,4,5,6,7,8])\n",
    "print(z)\n",
    "# a funcao shape retorna o numero de linhas(que é o numero de elementos) da matriz\n",
    "print(\"vetor1D= \",z.shape)\n",
    "\n",
    "\n",
    "z = np.array([[1,2,3,4],[2,3,4,5],[3,4,5,6],[4,5,6,7]])\n",
    "print(\"vetor2D= \",z.shape)\n",
    "# a funcao shape retorna o numero de linhas(que é o numero de elementos) da minha matriz\n",
    "# a funcao array retorna uma tupla\n",
    "for i in range(z.shape[0]):\n",
    "    for j in range(z.shape[1]):\n",
    "        print(z[i,j])"
   ],
   "metadata": {
    "collapsed": false,
    "pycharm": {
     "name": "#%%\n"
    }
   }
  },
  {
   "cell_type": "code",
   "execution_count": 3,
   "outputs": [
    {
     "name": "stdout",
     "output_type": "stream",
     "text": [
      "[[-1  2 -1  4]\n",
      " [-1  6 -1  8]\n",
      " [ 8 -1  6 -1]\n",
      " [ 4 -1  2 -1]]\n"
     ]
    }
   ],
   "source": [
    "# substituir os valores ímpares da matriz por -1, percorrendo a matriz elemento a elemento\n",
    "mat = np.array([[1,2,3,4],\n",
    "                [5,6,7,8],\n",
    "                [8,7,6,5],\n",
    "                [4,3,2,1]])\n",
    "\n",
    "for i in range(mat.shape[0]):\n",
    "    for j in range(mat.shape[1]):\n",
    "        if mat[i,j] % 2 != 0:\n",
    "            mat[i,j] = -1\n",
    "print(mat)\n",
    "\n",
    "\n",
    "# quando ela é bidimencional, nao podemos usar o len, apenas o shape, para linha e coluna"
   ],
   "metadata": {
    "collapsed": false,
    "pycharm": {
     "name": "#%%\n"
    }
   }
  },
  {
   "cell_type": "code",
   "execution_count": 6,
   "outputs": [
    {
     "name": "stdout",
     "output_type": "stream",
     "text": [
      " O Predisdente Michel Temer foi o mais velho a assumir a presidencia 75 anos\n",
      " O Predisdente Fernando Collor foi o mais novo a assumir a presidencia 40 anos\n"
     ]
    }
   ],
   "source": [
    "# usando os elementos gerados anteriormente, temos que somar os elementos da diagonal sem usar o for e o diag\n",
    "soma = 0\n",
    "\n",
    "for i in range(mat.shape[0]):\n",
    "    for j in range(mat.shape[1]):\n",
    "        if i == j:\n",
    "            soma = soma + mat[i,j]\n",
    "print(soma)"
   ],
   "metadata": {
    "collapsed": false,
    "pycharm": {
     "name": "#%%\n"
    }
   }
  },
  {
   "cell_type": "code",
   "execution_count": null,
   "outputs": [],
   "source": [
    "# Fatiamento de array, quando é unidimencional é igual a lista\n",
    "arr = np.arange(10, 34, 2) # Cria o array arr iniciando em 10 incrementando de 2 unidades até o 34\n",
    "print(arr)\n",
    "# observe que o passo é de 2 em 2 e ele termina em 32"
   ],
   "metadata": {
    "collapsed": false,
    "pycharm": {
     "name": "#%%\n"
    }
   }
  },
  {
   "cell_type": "code",
   "execution_count": null,
   "outputs": [],
   "source": [
    "arr[:4] # os primeiros quatro elmentos"
   ],
   "metadata": {
    "collapsed": false,
    "pycharm": {
     "name": "#%%\n"
    }
   }
  },
  {
   "cell_type": "code",
   "execution_count": null,
   "outputs": [],
   "source": [
    "arr[5:] # exibe a partir do 6º elemento (índice = 5) até o final"
   ],
   "metadata": {
    "collapsed": false,
    "pycharm": {
     "name": "#%%\n"
    }
   }
  },
  {
   "cell_type": "code",
   "execution_count": null,
   "outputs": [],
   "source": [
    "arr[1::2] # exibe os elementos espaçados de 2 em 2 posições, a partir da  posição 2 até o fim do array"
   ],
   "metadata": {
    "collapsed": false,
    "pycharm": {
     "name": "#%%\n"
    }
   }
  },
  {
   "cell_type": "code",
   "execution_count": null,
   "outputs": [],
   "source": [
    "arr[::-1]  # exibe todos os elementos na ordem inversa"
   ],
   "metadata": {
    "collapsed": false,
    "pycharm": {
     "name": "#%%\n"
    }
   }
  },
  {
   "cell_type": "code",
   "execution_count": null,
   "outputs": [],
   "source": [
    "arr[5::-2]  # exibe os elementos a partir do índice 5, de -2 em -2,até"
   ],
   "metadata": {
    "collapsed": false,
    "pycharm": {
     "name": "#%%\n"
    }
   }
  },
  {
   "cell_type": "code",
   "execution_count": null,
   "outputs": [],
   "source": [
    "arr = arr.reshape((4,3)) #Redimensiona o array para 4 linhas x 3 colunas"
   ],
   "metadata": {
    "collapsed": false,
    "pycharm": {
     "name": "#%%\n"
    }
   }
  },
  {
   "cell_type": "code",
   "execution_count": null,
   "outputs": [],
   "source": [
    "arr[:2,:2] # exibe o array com 2 linhas e 2 colunas"
   ],
   "metadata": {
    "collapsed": false,
    "pycharm": {
     "name": "#%%\n"
    }
   }
  },
  {
   "cell_type": "code",
   "execution_count": null,
   "outputs": [],
   "source": [
    "arr[:-1,:-1] #Exibe da 1 linha até a penúltima e da 1 coluna até a penúltima"
   ],
   "metadata": {
    "collapsed": false,
    "pycharm": {
     "name": "#%%\n"
    }
   }
  }
 ],
 "metadata": {
  "kernelspec": {
   "display_name": "Python 3",
   "language": "python",
   "name": "python3"
  },
  "language_info": {
   "codemirror_mode": {
    "name": "ipython",
    "version": 2
   },
   "file_extension": ".py",
   "mimetype": "text/x-python",
   "name": "python",
   "nbconvert_exporter": "python",
   "pygments_lexer": "ipython2",
   "version": "2.7.6"
  }
 },
 "nbformat": 4,
 "nbformat_minor": 0
}