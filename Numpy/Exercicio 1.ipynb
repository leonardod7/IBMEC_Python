{
 "cells": [
  {
   "cell_type": "code",
   "execution_count": 1,
   "metadata": {
    "collapsed": true,
    "pycharm": {
     "name": "#%%\n"
    }
   },
   "outputs": [],
   "source": [
    "import numpy as np"
   ]
  },
  {
   "cell_type": "code",
   "execution_count": 2,
   "outputs": [
    {
     "name": "stdout",
     "output_type": "stream",
     "text": [
      "Empates: 137\n",
      "Real: vitórias 158 pontos 611\n",
      "Barcelona: vitórias 134 pontos 539\n"
     ]
    }
   ],
   "source": [
    "real = np.array([2,4,6,3,2,3,2,5,1,4,2,0,1,0,3,2,0,2,1,0,2,2,4,1,0,1,1,2,1,4,1,1,1,2,1,1,1,3,0,\n",
    "                     0,0,4,0,1,1,4,1,2,3,0,3,2,2,0,2,2,2,0,2,1,1,1,2,2,1,1,2,1,1,2,1,1,3,1,0,1,0,0,\n",
    "                     0,5,2,2,2,2,1,2,2,1,3,4,2,2,0,1,1,1,1,1,1,1,2,2,3,0,0,6,0,7,2,1,2,1,5,2,1,1,2,\n",
    "                     1,3,1,1,1,2,2,5,4,1,1,1,2,1,5,1,0,0,2,3,3,1,2,2,2,0,5,0,0,3,1,1,6,2,1,1,4,1,1,\n",
    "                     1,1,2,1,2,0,0,2,1,3,0,3,0,4,1,1,1,2,0,0,1,0,3,1,0,0,2,0,2,4,3,2,1,2,1,1,2,3,4,\n",
    "                     4,1,2,0,0,2,2,0,1,1,1,0,0,1,0,1,0,1,0,0,1,5,0,0,2,0,2,0,0,2,1,0,0,1,0,2,0,1,2,\n",
    "                     2,0,4,0,1,1,0,3,2,1,2,1,1,0,0,4,2,1,1,2,1,0,2,1,2,1,1,3,3,0,0,2,0,1,1,0,0,1,0,\n",
    "                     1,1,4,1,0,0,0,1,1,0,0,0,0,1,4,1,5,1,0,2,2,2,1,0,1,4,1,1,2,0,1,3,1,2,1,2,3,0,0,\n",
    "                     0,1,3,2,0,2,2,1,3,1,2,0,2,2,0,2,0,5,1,0,1,2,3,1,1,2,0,0,1,2,1,5,0,1,0,4,1,4,3,\n",
    "                     1,1,2,1,0,2,2,0,4,1,1,0,1,1,2,1,1,0,0,1,2,5,1,3,0,1,1,3,2,0,0,3,3,1,0,0,1,3,2,\n",
    "                     3,2,0,1,2,3,1,1,2,2,1,1,3,0,1,2,3,0,3,2,1,0,2,0,3,1,2,1,2,1,0,1,3,0,1,0,0,1,2])\n",
    "\n",
    "barcelona = np.array([3,0,3,0,0,2,1,0,1,1,2,0,3,2,3,2,3,2,3,4,1,2,3,1,1,1,1,2,1,2,3,1,1,0,0,1,4,2,\n",
    "                       1,1,1,2,2,2,0,0,1,1,1,2,1,2,3,2,0,1,1,0,2,3,2,2,2,2,1,0,0,2,1,2,4,1,4,4,1,1,\n",
    "                       1,3,2,2,2,1,1,1,2,1,3,1,1,1,4,2,0,2,0,1,1,5,0,3,0,2,1,1,0,1,4,0,1,1,3,3,2,5,\n",
    "                       1,4,1,1,3,1,1,1,1,5,0,0,1,2,1,1,2,2,2,1,1,3,0,1,1,3,1,1,1,2,0,3,3,3,2,1,3,0,\n",
    "                       0,1,2,3,2,0,1,3,0,0,2,1,1,1,2,4,0,1,0,0,0,0,0,0,1,1,3,0,0,0,2,0,1,1,2,2,3,0\n",
    "                       ,1,1,1,1,1,2,0,1,1,0,3,1,0,4,0,1,2,2,1,0,1,2,3,1,0,4,2,1,0,1,1,1,0,1,4,2,0,\n",
    "                       0,2,0,1,0,1,1,1,3,1,0,1,1,1,1,0,2,0,2,0,0,2,0,1,1,1,1,0,3,0,1,2,2,1,1,0,1,0,\n",
    "                       1,1,0,2,1,0,1,0,1,1,1,0,0,1,0,1,0,1,1,0,0,0,0,0,0,1,1,1,1,1,2,0,1,2,1,2,1,1,\n",
    "                       2,2,1,3,1,4,1,2,3,0,3,4,3,0,1,2,0,1,1,3,2,1,1,0,2,0,3,1,2,0,1,2,1,1,0,1,0,2,\n",
    "                       1,4,2,3,1,4,1,0,3,2,2,2,2,4,0,2,2,1,1,2,0,2,4,0,2,1,0,0,0,1,0,3,2,3,0,1,0,2,\n",
    "                       0,1,1,1,2,0,3,2,1,0,3,1,1,0,2,1,3,1,0,1,2,1,0,3,4,1,0,0,1,2,1,1,0,0,1,2,1,1,\n",
    "                       0,1,2,1,1,1,1,3,1,2,1,1])\n",
    "\n",
    "# Observe que acima, não utilizamos nenhum conceito de numpy, exceto o array.\n",
    "# O objetivo do arrray é de fato podermos iterar sobre os elementos sem usar o for.\n",
    "\n",
    "saldo_gols = real - barcelona\n",
    "\n",
    "empates = len(saldo_gols[saldo_gols == 0])\n",
    "vitorias_real = len(saldo_gols[saldo_gols > 0])\n",
    "vitorias_barca = len(saldo_gols[saldo_gols < 0])\n",
    "\n",
    "pontos_real = empates + 3 * vitorias_real\n",
    "pontos_barca = empates + 3 * vitorias_barca\n",
    "\n",
    "print(\"Empates:\", empates)\n",
    "print(\"Real: vitórias\", vitorias_real, \"pontos\", pontos_real)\n",
    "print(\"Barcelona: vitórias\", vitorias_barca, \"pontos\", pontos_barca)"
   ],
   "metadata": {
    "collapsed": false,
    "pycharm": {
     "name": "#%%\n"
    }
   }
  },
  {
   "cell_type": "code",
   "execution_count": 3,
   "outputs": [
    {
     "name": "stdout",
     "output_type": "stream",
     "text": [
      "Flamengo e Fluminense fizeram 429 jogos \n",
      "Flamengo somou 611 pontos enquanto que o fluminense somou 539\n",
      "Flamengo fez 630 gols enquanti que o fluminense fez 571\n"
     ]
    }
   ],
   "source": [
    "# Exemplo de iteração usando o Array com a estrtura for\n",
    "\n",
    "flamengo = np.array([2,4,6,3,2,3,2,5,1,4,2,0,1,0,3,2,0,2,1,0,2,2,4,1,0,1,1,2,1,4,1,1,1,2,1,1,1,3,0,\n",
    "                     0,0,4,0,1,1,4,1,2,3,0,3,2,2,0,2,2,2,0,2,1,1,1,2,2,1,1,2,1,1,2,1,1,3,1,0,1,0,0,\n",
    "                     0,5,2,2,2,2,1,2,2,1,3,4,2,2,0,1,1,1,1,1,1,1,2,2,3,0,0,6,0,7,2,1,2,1,5,2,1,1,2,\n",
    "                     1,3,1,1,1,2,2,5,4,1,1,1,2,1,5,1,0,0,2,3,3,1,2,2,2,0,5,0,0,3,1,1,6,2,1,1,4,1,1,\n",
    "                     1,1,2,1,2,0,0,2,1,3,0,3,0,4,1,1,1,2,0,0,1,0,3,1,0,0,2,0,2,4,3,2,1,2,1,1,2,3,4,\n",
    "                     4,1,2,0,0,2,2,0,1,1,1,0,0,1,0,1,0,1,0,0,1,5,0,0,2,0,2,0,0,2,1,0,0,1,0,2,0,1,2,\n",
    "                     2,0,4,0,1,1,0,3,2,1,2,1,1,0,0,4,2,1,1,2,1,0,2,1,2,1,1,3,3,0,0,2,0,1,1,0,0,1,0,\n",
    "                     1,1,4,1,0,0,0,1,1,0,0,0,0,1,4,1,5,1,0,2,2,2,1,0,1,4,1,1,2,0,1,3,1,2,1,2,3,0,0,\n",
    "                     0,1,3,2,0,2,2,1,3,1,2,0,2,2,0,2,0,5,1,0,1,2,3,1,1,2,0,0,1,2,1,5,0,1,0,4,1,4,3,\n",
    "                     1,1,2,1,0,2,2,0,4,1,1,0,1,1,2,1,1,0,0,1,2,5,1,3,0,1,1,3,2,0,0,3,3,1,0,0,1,3,2,\n",
    "                     3,2,0,1,2,3,1,1,2,2,1,1,3,0,1,2,3,0,3,2,1,0,2,0,3,1,2,1,2,1,0,1,3,0,1,0,0,1,2])\n",
    "\n",
    "fluminense = np.array([3,0,3,0,0,2,1,0,1,1,2,0,3,2,3,2,3,2,3,4,1,2,3,1,1,1,1,2,1,2,3,1,1,0,0,1,4,2,\n",
    "                       1,1,1,2,2,2,0,0,1,1,1,2,1,2,3,2,0,1,1,0,2,3,2,2,2,2,1,0,0,2,1,2,4,1,4,4,1,1,\n",
    "                       1,3,2,2,2,1,1,1,2,1,3,1,1,1,4,2,0,2,0,1,1,5,0,3,0,2,1,1,0,1,4,0,1,1,3,3,2,5,\n",
    "                       1,4,1,1,3,1,1,1,1,5,0,0,1,2,1,1,2,2,2,1,1,3,0,1,1,3,1,1,1,2,0,3,3,3,2,1,3,0,\n",
    "                       0,1,2,3,2,0,1,3,0,0,2,1,1,1,2,4,0,1,0,0,0,0,0,0,1,1,3,0,0,0,2,0,1,1,2,2,3,0\n",
    "                       ,1,1,1,1,1,2,0,1,1,0,3,1,0,4,0,1,2,2,1,0,1,2,3,1,0,4,2,1,0,1,1,1,0,1,4,2,0,\n",
    "                       0,2,0,1,0,1,1,1,3,1,0,1,1,1,1,0,2,0,2,0,0,2,0,1,1,1,1,0,3,0,1,2,2,1,1,0,1,0,\n",
    "                       1,1,0,2,1,0,1,0,1,1,1,0,0,1,0,1,0,1,1,0,0,0,0,0,0,1,1,1,1,1,2,0,1,2,1,2,1,1,\n",
    "                       2,2,1,3,1,4,1,2,3,0,3,4,3,0,1,2,0,1,1,3,2,1,1,0,2,0,3,1,2,0,1,2,1,1,0,1,0,2,\n",
    "                       1,4,2,3,1,4,1,0,3,2,2,2,2,4,0,2,2,1,1,2,0,2,4,0,2,1,0,0,0,1,0,3,2,3,0,1,0,2,\n",
    "                       0,1,1,1,2,0,3,2,1,0,3,1,1,0,2,1,3,1,0,1,2,1,0,3,4,1,0,0,1,2,1,1,0,0,1,2,1,1,\n",
    "                       0,1,2,1,1,1,1,3,1,2,1,1])\n",
    "\n",
    "# se temos que perorrer cada elemento do array, temos que comparar cada valor na posicao i de um, com o outro\n",
    "\n",
    "pt_fla = 0\n",
    "pt_flu = 0\n",
    "for i in range(len(fluminense)):\n",
    "    if flamengo[i] > fluminense[i]:\n",
    "        pt_fla = pt_fla + 3     # cada vitoria sao 3 pontos\n",
    "    elif flamengo[i] < fluminense[i]:\n",
    "        pt_flu = pt_flu + 3\n",
    "    else:\n",
    "        pt_flu = pt_flu + 1\n",
    "        pt_fla = pt_fla + 1\n",
    "print(f\"Flamengo e Fluminense fizeram {len(fluminense)} jogos \")   # poderia ser len de fla\n",
    "print(f\"Flamengo somou {pt_fla} pontos enquanto que o fluminense somou {pt_flu}\")\n",
    "SomaGolsFla = sum(flamengo)\n",
    "SomaGolsFlu = sum(fluminense)\n",
    "print(f\"Flamengo fez {SomaGolsFla} gols enquanti que o fluminense fez {SomaGolsFlu}\")"
   ],
   "metadata": {
    "collapsed": false,
    "pycharm": {
     "name": "#%%\n"
    }
   }
  },
  {
   "cell_type": "code",
   "execution_count": 4,
   "outputs": [
    {
     "name": "stdout",
     "output_type": "stream",
     "text": [
      " O Predisdente Michel Temer foi o mais velho a assumir a presidencia 75 anos\n",
      " O Predisdente Fernando Collor foi o mais novo a assumir a presidencia 40 anos\n"
     ]
    }
   ],
   "source": [
    "# Lista com os nomes dos presidentes\n",
    "\n",
    "presidentes = [\"Michel Temer\",\"Getúlio Vargas\",\"Artur da Costa e Silva\",\"Nereu Ramos\",\"Ernesto Geisel\",\"Castelo Branco\",\n",
    "               \"Augusto Rademaker\",\"Emílio Garrastazu Médici\",\"Aurélio de Lira Tavare\",\"Jair Bolsonaro\",\n",
    "               \"Fernando Henrique Cardoso\",\"Márcio de Sousa Melo\",\"Dilma Rousseff\",\"Eurico Gaspar Dutra\",\n",
    "               \"Itamar Franco\",\"Deodoro da Fonseca\",\"Carlos Luz\",\"João Figueiredo\",\"Augusto Tasso Fragoso\",\n",
    "               \"José Linhares\",\"Afonso Pena\",\"Campos Sales\",\"Luiz Inácio Lula da Silva\",\"Washington Luís\",\n",
    "               \"Isaías de Noronha\",\"João Mena Barreto\",\"Café Filho\",\"Hermes da Fonseca\",\"José Sarney\",\"Rodrigues Alves\",\n",
    "               \"Epitácio Pessoa\",\"Ranieri Mazzilli\",\"Juscelino Kubitschek\",\"Prudente de Morais\",\"Floriano Peixoto\",\n",
    "               \"Ranieri Mazzilli\",\"Delfim Moreira\",\"Getúlio Vargas\",\"Artur Bernardes\",\"Venceslau Brás\",\"Jânio Quadros\",\n",
    "               \"João Goulart\",\"Nilo Peçanha\",\"Fernando Collor\"]\n",
    "\n",
    "# Numpy array com as idades correspondentes do presidente ao chegar à presidência.\n",
    "idades = np.array([75, 68, 67, 67, 66, 66, 64, 63, 63, 63, 63,\n",
    "                    63, 63, 62, 62, 62, 61, 61, 61, 59, 58, 57, 57, 57, 56, 56, 55, 55, 54,\n",
    "                    54, 54, 53, 53, 53, 52, 51, 50, 48, 47, 46, 44, 42, 41, 40])\n",
    "\n",
    "Media_Idades = idades.mean()\n",
    "Desvio_Padrao = idades.std()\n",
    "\n",
    "# podemos colocar round e arredondar para duas casas decimais: Media_Idades = round(idades.mean(2))\n",
    "\n",
    "# Para calcular o percentil, temos que usar o np.percentile, pois essa funcao não pertence ao numpy\n",
    "primeiro_quartil = np.percentile(idades,25) # primeiro quartil 25%\n",
    "terceiro_quartil = np.percentile(idades,75) # terceiro quartil 75%\n",
    "\n",
    "Menor_Idade = idades.min()\n",
    "\n",
    "i = idades.argmax()\n",
    "j = idades.argmin()\n",
    "\n",
    "print( f\" O Predisdente {presidentes[i]} foi o mais velho a assumir a presidencia {idades[i]} anos\")\n",
    "print( f\" O Predisdente {presidentes[j]} foi o mais novo a assumir a presidencia {idades[j]} anos\")"
   ],
   "metadata": {
    "collapsed": false,
    "pycharm": {
     "name": "#%%\n"
    }
   }
  },
  {
   "cell_type": "code",
   "execution_count": null,
   "outputs": [],
   "source": [],
   "metadata": {
    "collapsed": false,
    "pycharm": {
     "name": "#%%\n"
    }
   }
  }
 ],
 "metadata": {
  "kernelspec": {
   "display_name": "Python 3",
   "language": "python",
   "name": "python3"
  },
  "language_info": {
   "codemirror_mode": {
    "name": "ipython",
    "version": 2
   },
   "file_extension": ".py",
   "mimetype": "text/x-python",
   "name": "python",
   "nbconvert_exporter": "python",
   "pygments_lexer": "ipython2",
   "version": "2.7.6"
  }
 },
 "nbformat": 4,
 "nbformat_minor": 0
}