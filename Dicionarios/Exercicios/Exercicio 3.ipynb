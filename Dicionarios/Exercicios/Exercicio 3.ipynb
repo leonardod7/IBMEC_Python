{
 "cells": [
  {
   "cell_type": "code",
   "execution_count": null,
   "metadata": {
    "collapsed": true,
    "pycharm": {
     "name": "#%%\n"
    }
   },
   "outputs": [],
   "source": [
    "# Uma pista de Kart permite 10 voltas para cada um de 6 corredores. Escreva um programa que leia todos os tempos em segundos e os guarde em um dicionário, onde a chave é o nome do corredor. A seguir, solicite o nome de um corredor, mostre a melhor volta dele e em que volta ocorreu, a média de tempo feita."
   ]
  },
  {
   "cell_type": "code",
   "execution_count": null,
   "outputs": [],
   "source": [
    "# Criando dicionario\n",
    "dicionario = {}"
   ],
   "metadata": {
    "collapsed": false,
    "pycharm": {
     "name": "#%%\n"
    }
   }
  },
  {
   "cell_type": "code",
   "execution_count": null,
   "outputs": [],
   "source": [
    "# adicionando elementos no dicionario\n",
    "for i in range(3):\n",
    "    nome = input(\"Digite o nome do corredor: \")  # esse nome sera a chave do meu dicionario\n",
    "    lista = []\n",
    "    for j in range(4):\n",
    "        tempo = float(input(\"Digite o tempo em segundos: \"))\n",
    "        lista.append(tempo)\n",
    "    dicionario[nome] = lista\n",
    "\n",
    "print(dicionario)"
   ],
   "metadata": {
    "collapsed": false,
    "pycharm": {
     "name": "#%%\n"
    }
   }
  },
  {
   "cell_type": "code",
   "execution_count": null,
   "outputs": [],
   "source": [
    "# calculando o valor mínimo\n",
    "\n",
    "for i in range(3):\n",
    "    nome_corredor = input(\"Digite o nome de um corredor: \")\n",
    "    if nome_corredor not in dicionario:\n",
    "        print(f\" Nome do corredor inválido\")\n",
    "    else:\n",
    "        voltas = dicionario[nome_corredor]\n",
    "        nota_min = min(voltas)\n",
    "        volta = voltas.index(nota_min) + 1    # colocamos mais 1, pois como o voltas.index tras a posicao que o valor mínimo esta na lista, ele reflete a posicao e não a volta.\n",
    "        print(f\"o corredor {nome_corredor} obteve na volta {volta} a menor nota de {nota_min} \")\n",
    "        media = sum(voltas) / len(voltas)\n",
    "        print(media)"
   ],
   "metadata": {
    "collapsed": false,
    "pycharm": {
     "name": "#%%\n"
    }
   }
  }
 ],
 "metadata": {
  "kernelspec": {
   "display_name": "Python 3",
   "language": "python",
   "name": "python3"
  },
  "language_info": {
   "codemirror_mode": {
    "name": "ipython",
    "version": 2
   },
   "file_extension": ".py",
   "mimetype": "text/x-python",
   "name": "python",
   "nbconvert_exporter": "python",
   "pygments_lexer": "ipython2",
   "version": "2.7.6"
  }
 },
 "nbformat": 4,
 "nbformat_minor": 0
}