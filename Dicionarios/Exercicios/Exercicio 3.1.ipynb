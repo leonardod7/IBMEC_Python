{
 "cells": [
  {
   "cell_type": "code",
   "execution_count": null,
   "metadata": {
    "collapsed": true,
    "pycharm": {
     "name": "#%%\n"
    }
   },
   "outputs": [],
   "source": [
    "# Usando o exercicio anterior 3, porém, calculando também a melhor volta entre os corredores (comparando eles) e a media de cada um e geral."
   ]
  },
  {
   "cell_type": "code",
   "execution_count": null,
   "outputs": [],
   "source": [
    "# Variáveis de entrada\n",
    "\n",
    "dicionario = {}\n",
    "qtde_corredores = 3\n",
    "qtde_notas = 4"
   ],
   "metadata": {
    "collapsed": false,
    "pycharm": {
     "name": "#%%\n"
    }
   }
  },
  {
   "cell_type": "code",
   "execution_count": null,
   "outputs": [],
   "source": [
    "# adicionando elementos no dicionario\n",
    "\n",
    "for i in range(qtde_corredores):\n",
    "    nome = input(\"Digite o nome do corredor: \")\n",
    "    lista = []\n",
    "    for j in range(qtde_notas):\n",
    "        tempo = float(input(\"Digite o tempo em segundos: \"))\n",
    "        lista.append(tempo)\n",
    "    dicionario[nome] = lista\n",
    "\n",
    "print(dicionario)"
   ],
   "metadata": {
    "collapsed": false,
    "pycharm": {
     "name": "#%%\n"
    }
   }
  },
  {
   "cell_type": "code",
   "execution_count": null,
   "outputs": [],
   "source": [
    "# construindo um dicionario com o menor tempo de cada corredor em todas as 4 voltas de cada\n",
    "dicionario2 = {}\n",
    "\n",
    "for i in range(qtde_corredores):\n",
    "    nome_corredor = str(input(\"Digite o nome de um corredor: \"))\n",
    "    if nome_corredor not in dicionario:\n",
    "        print(f\" Nome do corredor inválido\")\n",
    "    else:\n",
    "        tempos = dicionario[nome_corredor]\n",
    "        menor_tempo = min(tempos)\n",
    "        volta = tempos.index(menor_tempo) + 1    # colocamos mais 1, pois como o voltas.index tras a posicao que o valor mínimo esta na lista, ele reflete a posicao e não a volta.\n",
    "        print(f\"o corredor {nome_corredor} obteve na volta {volta} a menor nota de {menor_tempo} \")\n",
    "        # vamos criar a média dos tempos de cada corredor\n",
    "        soma_notas = 0\n",
    "\n",
    "        for k in range(qtde_notas):\n",
    "            soma_notas = soma_notas + tempos[k]\n",
    "        media = soma_notas / 4\n",
    "        print(f\"a média do corredor {nome_corredor} foi de : {media} \")\n",
    "        # vamos colocar as medias e os corredores em um dicionario\n",
    "\n",
    "\n",
    "        dicionario2[nome_corredor] = menor_tempo\n",
    "\n",
    "print(f\"a lista com as menores notas dos corredores comparados é: {dicionario2} \")"
   ],
   "metadata": {
    "collapsed": false,
    "pycharm": {
     "name": "#%%\n"
    }
   }
  },
  {
   "cell_type": "code",
   "execution_count": null,
   "outputs": [],
   "source": [
    "#  calcular qual o corredor teve o menor tempo\n",
    "# vamos criar uma funcao para pegar o nome da chave através do valor\n",
    "\n",
    "def get_key (valor):\n",
    "    for key, value in dicionario2.items(): # usamos diconario.items para tornar o dicionario em lista com os valores\n",
    "        if valor == value:\n",
    "            return key\n",
    "    return \"nao existe chave para esse valor\"\n",
    "\n",
    "tempos2 = list(dicionario2.values())  # retorna uma lista com todos os valores do dicionario\n",
    "print(tempos2)\n",
    "# menor_tempo2 = min([valor[0] for valor in tempos2])\n",
    "menor_tempo2 = min(tempos2)\n",
    "print(menor_tempo2)\n",
    "corredor_menor_tempo = get_key(menor_tempo2)\n",
    "print(corredor_menor_tempo)\n",
    "print(f\" O menor tempo foi de: {menor_tempo2}, referente ao corredor {corredor_menor_tempo} \")"
   ],
   "metadata": {
    "collapsed": false,
    "pycharm": {
     "name": "#%%\n"
    }
   }
  },
  {
   "cell_type": "code",
   "execution_count": null,
   "outputs": [],
   "source": [
    "# criar uma lista com o tempo da primeira volta de cada corredor e ver quem foi melhor\n",
    "\n",
    "# criando funcao para trazer o valor da chave (nome do corredor)\n",
    "def get_key2 (valor2):\n",
    "    for key, value in dicionario.items():\n",
    "        if valor2 == value[0]:\n",
    "            return key\n",
    "    return \"nao existe chave para esse valor\"\n",
    "\n",
    "\n",
    "# criando lista com o tempo de cada corredor para a 1 volta\n",
    "tempos_dicionario = list(dicionario.values())\n",
    "print(f\" A lista com todas as voltas de cada corredor é: {tempos_dicionario} \")\n",
    "chaves_dicionario = list(dicionario.keys())\n",
    "print(f\" A lista com o nome dos corredores é: {chaves_dicionario} \")\n",
    "\n",
    "lista_volta1 = []         # lista contendo a primeira volta de cada corredor\n",
    "for i in range(3):\n",
    "    volta1 = tempos_dicionario[i][0]    # estamos pegando no i, a posicao da lista de cada corredor. na sequencia, usamos zero para pegar a primeira volta de cada. para a segunda volta, usariamos o 1\n",
    "    lista_volta1.append(volta1)\n",
    "\n",
    "print(f\" A lista com a primeira volta de cada corredor é:  {lista_volta1} \")\n",
    "\n",
    "# media volta 1\n",
    "media_vota1 = sum(lista_volta1) / qtde_corredores\n",
    "print(f\" A média de todos os corredores na volta 1 foi de: {media_vota1} \")\n",
    "\n",
    "# menor tempo da volta 1\n",
    "menor_tempo_volta1 = min(lista_volta1)\n",
    "print(f\" O menor tempo da volta 1 foi de: {menor_tempo_volta1} \")\n",
    "corredor_volta1 = get_key2(menor_tempo_volta1)\n",
    "print(corredor_volta1)\n",
    "print(dicionario)\n",
    "# corredor_volta1 = get_key(menor_tempo_volta1)\n",
    "# posicao = dic.index(menor_tempo_volta1)\n",
    "# print(posicao)\n",
    "# print(menor_tempo_volta1)\n",
    "# print(corredor_volta1)\n"
   ],
   "metadata": {
    "collapsed": false,
    "pycharm": {
     "name": "#%%\n"
    }
   }
  }
 ],
 "metadata": {
  "kernelspec": {
   "display_name": "Python 3",
   "language": "python",
   "name": "python3"
  },
  "language_info": {
   "codemirror_mode": {
    "name": "ipython",
    "version": 2
   },
   "file_extension": ".py",
   "mimetype": "text/x-python",
   "name": "python",
   "nbconvert_exporter": "python",
   "pygments_lexer": "ipython2",
   "version": "2.7.6"
  }
 },
 "nbformat": 4,
 "nbformat_minor": 0
}