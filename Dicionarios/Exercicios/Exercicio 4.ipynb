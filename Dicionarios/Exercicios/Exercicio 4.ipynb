{
 "cells": [
  {
   "cell_type": "code",
   "execution_count": null,
   "outputs": [],
   "source": [
    "# Escreva um programa que leia uma string do teclado e retorne uma tabela com a frequência com que cada letra aparece na string. Ignore se as letras são maiúsculas ou minúsculas. O dicionário deve ser criado em tempo de execução"
   ],
   "metadata": {
    "collapsed": false,
    "pycharm": {
     "name": "#%%\n"
    }
   }
  },
  {
   "cell_type": "code",
   "execution_count": 11,
   "outputs": [
    {
     "name": "stdout",
     "output_type": "stream",
     "text": [
      "aaheyes\n",
      "{'a': 2, 'e': 2, 'i': 0, 'o': 0, 'u': 0}\n"
     ]
    }
   ],
   "source": [
    "texto = input(\"Informe um texto: \").lower() # \"palavra\"\n",
    "print(texto)\n",
    "def vogais_count(texto):\n",
    "    vogais = \"aeiou\"\n",
    "    dicionario = dict().fromkeys(vogais, 0)\n",
    "    for letra in texto:\n",
    "        if letra in dicionario:\n",
    "            dicionario[letra] += 1\n",
    "    return dicionario\n",
    "\n",
    "Resultado = vogais_count(texto)\n",
    "print(Resultado)"
   ],
   "metadata": {
    "collapsed": false,
    "pycharm": {
     "name": "#%%\n"
    }
   }
  },
  {
   "cell_type": "code",
   "execution_count": 5,
   "outputs": [
    {
     "name": "stdout",
     "output_type": "stream",
     "text": [
      "{'h': 2, 'a': 1, 'g': 1, 's': 1, 'e': 2, 'u': 2}\n"
     ]
    }
   ],
   "source": [
    "def vogal (v):\n",
    "    if v == \"a\" or \"e\" or \"i\" or \"o\" or \"u\":\n",
    "        return \"true\"\n",
    "    else:\n",
    "        return \"false\"\n",
    "\n",
    "texto = input(\"Informe um texto: \").lower() # \"palavra\"\n",
    "frequencia_letras = {}\n",
    "\n",
    "for letra in texto:\n",
    "    if vogal(letra) == \"true\":\n",
    "        if letra not in frequencia_letras:\n",
    "            frequencia_letras[letra] = texto.count(letra)\n",
    "    else:\n",
    "        \"Invalido\"\n",
    "print(frequencia_letras)"
   ],
   "metadata": {
    "collapsed": false,
    "pycharm": {
     "name": "#%%\n"
    }
   }
  },
  {
   "cell_type": "code",
   "execution_count": 2,
   "outputs": [
    {
     "name": "stdout",
     "output_type": "stream",
     "text": [
      " letra   frequencia\n",
      "  a         1\n",
      "  h         3\n",
      "  s         2\n",
      "  u         2\n",
      "  e         3\n",
      "  d         1\n"
     ]
    }
   ],
   "source": [
    "# podemos fazer tambem por:\n",
    "dic_freq = {}\n",
    "frase = input(\"Digite uma frase: \")\n",
    "frase_min = frase.lower()\n",
    "\n",
    "for i in range(len(frase)):\n",
    "    if frase_min[i] != \" \":\n",
    "        if frase_min[i] in dic_freq:\n",
    "            dic_freq[frase_min[i]] = dic_freq[frase_min[i]] + 1\n",
    "        else:\n",
    "            dic_freq[frase_min[i]] = 1\n",
    "print(\" letra   frequencia\")\n",
    "for chave, freq in dic_freq.items():\n",
    "    print( \" \", chave, \"       \", freq)"
   ],
   "metadata": {
    "collapsed": false,
    "pycharm": {
     "name": "#%%\n"
    }
   }
  }
 ],
 "metadata": {
  "kernelspec": {
   "display_name": "Python 3",
   "language": "python",
   "name": "python3"
  },
  "language_info": {
   "codemirror_mode": {
    "name": "ipython",
    "version": 2
   },
   "file_extension": ".py",
   "mimetype": "text/x-python",
   "name": "python",
   "nbconvert_exporter": "python",
   "pygments_lexer": "ipython2",
   "version": "2.7.6"
  }
 },
 "nbformat": 4,
 "nbformat_minor": 0
}