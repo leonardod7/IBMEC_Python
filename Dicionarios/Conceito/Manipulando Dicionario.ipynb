{
 "cells": [
  {
   "cell_type": "code",
   "execution_count": 1,
   "metadata": {
    "collapsed": true,
    "pycharm": {
     "name": "#%%\n"
    }
   },
   "outputs": [],
   "source": [
    "# entendendo o funionamento do acesso às posicoes do dicionario"
   ]
  },
  {
   "cell_type": "code",
   "execution_count": 2,
   "outputs": [],
   "source": [
    "dic = {'Leo': [1.0, 2.0, 1.1, 0.9], 'Joao': [0.8, 0.5, 0.3, 0.66], 'Pedro': [1.7, 1.8, 1.9, 2.0]}"
   ],
   "metadata": {
    "collapsed": false,
    "pycharm": {
     "name": "#%%\n"
    }
   }
  },
  {
   "cell_type": "code",
   "execution_count": 3,
   "outputs": [
    {
     "name": "stdout",
     "output_type": "stream",
     "text": [
      "{'Leo': [1.0, 2.0, 1.1, 0.9], 'Joao': [0.8, 0.5, 0.3, 0.66], 'Pedro': [1.7, 1.8, 1.9, 2.0]}\n",
      "dict_values([[1.0, 2.0, 1.1, 0.9], [0.8, 0.5, 0.3, 0.66], [1.7, 1.8, 1.9, 2.0]])\n",
      "[[1.0, 2.0, 1.1, 0.9], [0.8, 0.5, 0.3, 0.66], [1.7, 1.8, 1.9, 2.0]]\n",
      "[1.0, 2.0, 1.1, 0.9]\n",
      "1.0\n"
     ]
    }
   ],
   "source": [
    "print(dic)\n",
    "dic = dic.values()\n",
    "print(dic)\n",
    "dic1 = list(dic)\n",
    "print(dic1)\n",
    "dic2 = dic1[0]\n",
    "print(dic2)\n",
    "dic3 = dic2[0]\n",
    "print(dic3)"
   ],
   "metadata": {
    "collapsed": false,
    "pycharm": {
     "name": "#%%\n"
    }
   }
  },
  {
   "cell_type": "code",
   "execution_count": 4,
   "outputs": [
    {
     "name": "stdout",
     "output_type": "stream",
     "text": [
      "{'key1': 0, 'key2': 0, 'key3': 0}\n"
     ]
    }
   ],
   "source": [
    "x = ('key1', 'key2', 'key3')\n",
    "y = 0\n",
    "\n",
    "thisdict = dict.fromkeys(x, y)\n",
    "\n",
    "print(thisdict)"
   ],
   "metadata": {
    "collapsed": false,
    "pycharm": {
     "name": "#%%\n"
    }
   }
  },
  {
   "cell_type": "code",
   "execution_count": 5,
   "outputs": [
    {
     "name": "stdout",
     "output_type": "stream",
     "text": [
      "John\n",
      "Michael\n"
     ]
    }
   ],
   "source": [
    "# Utilize .keys() e .values() para encontrar chave por valor no Python dicionário\n",
    "\n",
    "my_dict ={\"John\":1, \"Michael\":2, \"Shawn\":3}\n",
    "\n",
    "list_of_key = list(my_dict.keys())\n",
    "list_of_value = list(my_dict.values())\n",
    "\n",
    "position1 = list_of_value.index(1)\n",
    "print(list_of_key[position1])\n",
    "\n",
    "position2 = list_of_value.index(2)\n",
    "print(list_of_key[position2])"
   ],
   "metadata": {
    "collapsed": false,
    "pycharm": {
     "name": "#%%\n"
    }
   }
  }
 ],
 "metadata": {
  "kernelspec": {
   "display_name": "Python 3",
   "language": "python",
   "name": "python3"
  },
  "language_info": {
   "codemirror_mode": {
    "name": "ipython",
    "version": 2
   },
   "file_extension": ".py",
   "mimetype": "text/x-python",
   "name": "python",
   "nbconvert_exporter": "python",
   "pygments_lexer": "ipython2",
   "version": "2.7.6"
  }
 },
 "nbformat": 4,
 "nbformat_minor": 0
}