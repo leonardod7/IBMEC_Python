{
 "cells": [
  {
   "cell_type": "code",
   "execution_count": 1,
   "metadata": {
    "collapsed": true,
    "pycharm": {
     "name": "#%%\n"
    }
   },
   "outputs": [
    {
     "name": "stdout",
     "output_type": "stream",
     "text": [
      "{'p': 1, 'a': 1, 'r': 2, 'o': 1, 't': 1}\n"
     ]
    }
   ],
   "source": [
    "# Função para inverter o dicionário\n",
    "# Observe que para criarmps uma funcao para inverter o dicionario, precisamos antes criar um contador\n",
    "\n",
    "def histogram3(texto):\n",
    "    dicionario = dict()\n",
    "    for caractere in texto:\n",
    "        if caractere not in dicionario:\n",
    "            dicionario[caractere] = 1   # adiciona o 1 e a letra, caso ambos nao existam\n",
    "        else:\n",
    "            dicionario[caractere] += 1  # adiciona o 1 para a letra que já existe ( contador )\n",
    "    return dicionario\n",
    "\n",
    "\n",
    "dicionario7 = histogram3(\"parrot\")  # rodando a primeira funcao. Ela criou o contador para cada chave (no caso caractere)\n",
    "print(dicionario7)"
   ]
  },
  {
   "cell_type": "code",
   "execution_count": 2,
   "outputs": [
    {
     "name": "stdout",
     "output_type": "stream",
     "text": [
      "{1: ['p', 'a', 'o', 't'], 2: ['r']}\n"
     ]
    }
   ],
   "source": [
    "# Criando uma função para contar quantas vezes cada letra aparece\n",
    "\n",
    "def invert_dict(texto):\n",
    "    dic_inverse = dict()\n",
    "    for key3 in texto:\n",
    "        val = texto[key3]\n",
    "        if val not in dic_inverse:\n",
    "            dic_inverse[val] = [key3]\n",
    "        else:\n",
    "            dic_inverse[val].append(key3)\n",
    "    return dic_inverse\n",
    "\n",
    "hist_inverso = invert_dict(dicionario7)\n",
    "print(hist_inverso)\n"
   ],
   "metadata": {
    "collapsed": false,
    "pycharm": {
     "name": "#%%\n"
    }
   }
  }
 ],
 "metadata": {
  "kernelspec": {
   "display_name": "Python 3",
   "language": "python",
   "name": "python3"
  },
  "language_info": {
   "codemirror_mode": {
    "name": "ipython",
    "version": 2
   },
   "file_extension": ".py",
   "mimetype": "text/x-python",
   "name": "python",
   "nbconvert_exporter": "python",
   "pygments_lexer": "ipython2",
   "version": "2.7.6"
  }
 },
 "nbformat": 4,
 "nbformat_minor": 0
}