{
 "cells": [
  {
   "cell_type": "code",
   "execution_count": null,
   "metadata": {
    "collapsed": true,
    "pycharm": {
     "name": "#%%\n"
    }
   },
   "outputs": [],
   "source": []
  },
  {
   "cell_type": "code",
   "execution_count": 31,
   "outputs": [
    {
     "name": "stdout",
     "output_type": "stream",
     "text": [
      "{'Romeu': [20, 22, 23], 'Leo': [25, 24, 26]}\n",
      "{'Pedro': [32, 33, 31], 'Patricia': [45, 43, 44]}\n",
      "{'Romeu': [20, 22, 23], 'Leo': [25, 24, 26], 'Pedro': [32, 33, 31], 'Patricia': [45, 43, 44]}\n"
     ]
    }
   ],
   "source": [
    "# Criamos dois dicionarios e concatenamos eles usando a função UPDATE\n",
    "\n",
    "dicionario = dict()\n",
    "dicionario2 = dict()\n",
    "\n",
    "for i in range(2):\n",
    "    nome = input(\"Digite o nome: \")\n",
    "    notas = []\n",
    "    for j in range(3):\n",
    "        nota = int(input(\"Digite sua nota: \"))\n",
    "        notas.append(nota)\n",
    "    dicionario[nome] = notas\n",
    "\n",
    "for i in range(2):\n",
    "    nome = input(\"Digite o nome: \")\n",
    "    notas2 = []\n",
    "    for j in range(3):\n",
    "        nota = int(input(\"Digite sua nota: \"))\n",
    "        notas2.append(nota)\n",
    "    dicionario2[nome] = notas2\n",
    "\n",
    "print(dicionario)\n",
    "print(dicionario2)\n",
    "dicionario.update(dicionario2)\n",
    "print(dicionario)\n"
   ],
   "metadata": {
    "collapsed": false,
    "pycharm": {
     "name": "#%%\n"
    }
   }
  },
  {
   "cell_type": "code",
   "execution_count": 36,
   "outputs": [
    {
     "name": "stdout",
     "output_type": "stream",
     "text": [
      " o Atleta Romeu, ficou com um total de 65, sua média foi de 21.666666666666668 \n",
      " o Atleta Leo, ficou com um total de 75, sua média foi de 25.0 \n",
      " o Atleta Pedro, ficou com um total de 96, sua média foi de 32.0 \n",
      " o Atleta Patricia, ficou com um total de 132, sua média foi de 44.0 \n"
     ]
    }
   ],
   "source": [
    "for nome, listas in dicionario.items():\n",
    "    soma = sum(listas)\n",
    "    media = soma / len(listas)\n",
    "\n",
    "    print(f\" o Atleta {nome}, ficou com um total de {soma}, sua média foi de {media} \")"
   ],
   "metadata": {
    "collapsed": false,
    "pycharm": {
     "name": "#%%\n"
    }
   }
  },
  {
   "cell_type": "code",
   "execution_count": 96,
   "outputs": [
    {
     "name": "stdout",
     "output_type": "stream",
     "text": [
      "[('leo', [2, 3, 4]), ('rafa', [2, 5, 6]), ('roberto', [4, 6, 8])]\n",
      "3\n"
     ]
    }
   ],
   "source": [
    "# Fazendo o zip de uma tupla de nomes com uma tupla de listas de valores para cada nome da tupla\n",
    "x = ('leo', 'rafa', 'roberto')\n",
    "y = ([2,3,4], [2,5,6], [4,6,8])\n",
    "z = list(zip(x, y))\n",
    "print(z)\n",
    "\n"
   ],
   "metadata": {
    "collapsed": false,
    "pycharm": {
     "name": "#%%\n"
    }
   }
  },
  {
   "cell_type": "code",
   "execution_count": 122,
   "outputs": [
    {
     "name": "stdout",
     "output_type": "stream",
     "text": [
      "[('Jose', [2, 5]), ('Kaka', [5, 8]), ('Bueno', [7, 4])]\n"
     ]
    }
   ],
   "source": [
    "x = ('Jose', 'Kaka', 'Bueno')\n",
    "z = list()\n",
    "\n",
    "for i in x:\n",
    "    lista = list()\n",
    "    for valor in range(2):\n",
    "        n = int(input(\"Digite o n: \"))\n",
    "        lista.append(n)\n",
    "    z.append((i, lista))\n",
    "\n",
    "print(z)"
   ],
   "metadata": {
    "collapsed": false,
    "pycharm": {
     "name": "#%%\n"
    }
   }
  },
  {
   "cell_type": "code",
   "execution_count": null,
   "outputs": [],
   "source": [
    "\n",
    "\n"
   ],
   "metadata": {
    "collapsed": false,
    "pycharm": {
     "name": "#%%\n"
    }
   }
  }
 ],
 "metadata": {
  "kernelspec": {
   "display_name": "Python 3",
   "language": "python",
   "name": "python3"
  },
  "language_info": {
   "codemirror_mode": {
    "name": "ipython",
    "version": 2
   },
   "file_extension": ".py",
   "mimetype": "text/x-python",
   "name": "python",
   "nbconvert_exporter": "python",
   "pygments_lexer": "ipython2",
   "version": "2.7.6"
  }
 },
 "nbformat": 4,
 "nbformat_minor": 0
}