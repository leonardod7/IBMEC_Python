{
 "cells": [
  {
   "cell_type": "code",
   "execution_count": 1,
   "metadata": {
    "collapsed": true,
    "pycharm": {
     "name": "#%%\n"
    }
   },
   "outputs": [],
   "source": [
    "# Criando um dicionário\n",
    "# Usando a função dict\n",
    "\n",
    "Dicionario = dict()"
   ]
  },
  {
   "cell_type": "code",
   "execution_count": 2,
   "outputs": [
    {
     "name": "stdout",
     "output_type": "stream",
     "text": [
      "{'Leonardo': 2}\n"
     ]
    }
   ],
   "source": [
    "Dicionario['Leonardo'] = 2   # atribuímos uma chave e valor para o dicionário\n",
    "print(Dicionario)"
   ],
   "metadata": {
    "collapsed": false,
    "pycharm": {
     "name": "#%%\n"
    }
   }
  },
  {
   "cell_type": "code",
   "execution_count": 3,
   "outputs": [
    {
     "name": "stdout",
     "output_type": "stream",
     "text": [
      "{'Leonardo': 2, 'Pedro': 4}\n"
     ]
    }
   ],
   "source": [
    "Dicionario['Pedro'] = 4\n",
    "print(Dicionario)"
   ],
   "metadata": {
    "collapsed": false,
    "pycharm": {
     "name": "#%%\n"
    }
   }
  },
  {
   "cell_type": "code",
   "execution_count": 4,
   "outputs": [
    {
     "name": "stdout",
     "output_type": "stream",
     "text": [
      "{'Leo': 2, 'Pedro': 4, 'Rafael': 5}\n"
     ]
    }
   ],
   "source": [
    "Dicionario2 = {'Leo':2, 'Pedro': 4, 'Rafael': 5}\n",
    "print(Dicionario2)"
   ],
   "metadata": {
    "collapsed": false,
    "pycharm": {
     "name": "#%%\n"
    }
   }
  },
  {
   "cell_type": "code",
   "execution_count": 5,
   "outputs": [
    {
     "name": "stdout",
     "output_type": "stream",
     "text": [
      "2\n"
     ]
    }
   ],
   "source": [
    "# Se quisermos acessar o valor pela chave, chamamos o dicionario e a chave\n",
    "Valor_Chave_1 = Dicionario2['Leo']\n",
    "print(Valor_Chave_1)"
   ],
   "metadata": {
    "collapsed": false,
    "pycharm": {
     "name": "#%%\n"
    }
   }
  },
  {
   "cell_type": "code",
   "execution_count": 6,
   "outputs": [
    {
     "name": "stdout",
     "output_type": "stream",
     "text": [
      "2 3\n"
     ]
    }
   ],
   "source": [
    "# podemos usar a função len para contagens. Ela também é compatível com o dicionario. Ela conta o número de pares chave-valor\n",
    "d = len(Dicionario)\n",
    "e = len(Dicionario2)\n",
    "\n",
    "print(d,e)"
   ],
   "metadata": {
    "collapsed": false,
    "pycharm": {
     "name": "#%%\n"
    }
   }
  },
  {
   "cell_type": "code",
   "execution_count": 7,
   "outputs": [
    {
     "data": {
      "text/plain": "True"
     },
     "execution_count": 7,
     "metadata": {},
     "output_type": "execute_result"
    }
   ],
   "source": [
    "# o operador in funciona em dicionarios. Ele acusa se algo aparece como chave no dicionario.\n",
    "'Leo' in Dicionario2"
   ],
   "metadata": {
    "collapsed": false,
    "pycharm": {
     "name": "#%%\n"
    }
   }
  },
  {
   "cell_type": "code",
   "execution_count": 8,
   "outputs": [
    {
     "data": {
      "text/plain": "True"
     },
     "execution_count": 8,
     "metadata": {},
     "output_type": "execute_result"
    }
   ],
   "source": [
    "# O método values retorna uma coleção de valores\n",
    "# Para ver se algo aparece como um valor no dicionario, podemos combianr o in com o values\n",
    "vals = Dicionario.values()\n",
    "2 in vals"
   ],
   "metadata": {
    "collapsed": false,
    "pycharm": {
     "name": "#%%\n"
    }
   }
  },
  {
   "cell_type": "code",
   "execution_count": 9,
   "outputs": [
    {
     "name": "stdout",
     "output_type": "stream",
     "text": [
      "{'B': 1, 'u': 2, 'b': 1, 'a': 2, 's': 2, 'r': 1, 'o': 1}\n"
     ]
    }
   ],
   "source": [
    "# Criando contadores para dicionarios usando a estrutura de repeticao for\n",
    "\n",
    "texto4 = \"Bubassauro\"\n",
    "\n",
    "dicionario4 = dict()\n",
    "\n",
    "for letra in texto4:\n",
    "    if letra not in dicionario4:\n",
    "        dicionario4[letra] = 1\n",
    "    else:\n",
    "        dicionario4[letra] += 1\n",
    "print(dicionario4)\n"
   ],
   "metadata": {
    "collapsed": false,
    "pycharm": {
     "name": "#%%\n"
    }
   }
  },
  {
   "cell_type": "code",
   "execution_count": 10,
   "outputs": [
    {
     "name": "stdout",
     "output_type": "stream",
     "text": [
      "{'B': 1, 'u': 2, 'b': 1, 'a': 2, 's': 2, 'r': 1, 'o': 1}\n"
     ]
    }
   ],
   "source": [
    "# vamos criar uma funcao para armazenar a estrutura de repeticao para criar os contadores do dicionario\n",
    "# a primeira linha da funcao cria um dicionario vazio. O loop for atravessa a string. Cada vez que passa pelo loop, se o caractere nao estiver no dicionario, criamos um item com a chave caractere\n",
    "# e o valor inicial 1 ( pois ja vimos essa letra uma vez ). Se o caractere já estiver no dicionario, incrementa dicionario[caractere]\n",
    "\n",
    "def histogram(texto):\n",
    "    dicionario3 = dict()\n",
    "    for caractere in texto:\n",
    "        if caractere not in dicionario3:\n",
    "            dicionario3[caractere] = 1   # adiciona o 1 e a letra, caso ambos nao existam\n",
    "        else:\n",
    "            dicionario3[caractere] += 1  # adiciona o 1 para a letra que já existe ( contador )\n",
    "    return dicionario3\n",
    "\n",
    "h = histogram(\"Bubassauro\")\n",
    "print(h)"
   ],
   "metadata": {
    "collapsed": false,
    "pycharm": {
     "name": "#%%\n"
    }
   }
  },
  {
   "cell_type": "code",
   "execution_count": 11,
   "outputs": [
    {
     "name": "stdout",
     "output_type": "stream",
     "text": [
      "{'p': 3, 'a': 2, 'r': 1, 'l': 2, 'e': 3, 'i': 1, 'd': 1, 'o': 1}\n",
      "3\n"
     ]
    }
   ],
   "source": [
    "# Função get - os dicionarios possuem um método chamado get, que toma uma chave e um valor-padrão. Se a chave aparecer no dicionário, get retorna o valor correspondente. se não for o caso, ele retorna o valor-padrão. Exemplo\n",
    "\n",
    "d = histogram(\"paralelepipedo\")\n",
    "print(d)\n",
    "valor = d.get('p',0)   # queremos a chave p, e o valor que corresponde à ela na posicao zero ( primeira posicao )\n",
    "print(valor)"
   ],
   "metadata": {
    "collapsed": false,
    "pycharm": {
     "name": "#%%\n"
    }
   }
  },
  {
   "cell_type": "code",
   "execution_count": 12,
   "outputs": [
    {
     "name": "stdout",
     "output_type": "stream",
     "text": [
      "p 3\n",
      "a 2\n",
      "r 1\n",
      "l 2\n",
      "e 3\n",
      "i 1\n",
      "d 1\n",
      "o 1\n"
     ]
    }
   ],
   "source": [
    "# Loop e dicionários\n",
    "\n",
    "dicionario5 = {'p': 3, 'a': 2, 'r': 1, 'l': 2, 'e': 3, 'i': 1, 'd': 1, 'o': 1}\n",
    "\n",
    "for caractere5 in dicionario5:\n",
    "    print(caractere5, dicionario5[caractere5])  # nesse caso ele printa a letra ( que é a chave do dicionario ) e para imprimirmos o valor, chamamos o dicionario com a chave dicionario[chave]\n",
    "\n"
   ],
   "metadata": {
    "collapsed": false,
    "pycharm": {
     "name": "#%%\n"
    }
   }
  },
  {
   "cell_type": "code",
   "execution_count": 13,
   "outputs": [
    {
     "name": "stdout",
     "output_type": "stream",
     "text": [
      "a 2\n",
      "d 1\n",
      "e 3\n",
      "i 1\n",
      "l 2\n",
      "o 1\n",
      "p 3\n",
      "r 1\n",
      "dict_values([3, 2, 1, 2, 3, 1, 1, 1])\n"
     ]
    }
   ],
   "source": [
    "# para atravessarmos as chaves em ordem ascendente, podemos usar a funcao sorted\n",
    "for key in sorted(dicionario5):\n",
    "    print(key, dicionario5[key])\n",
    "vals2 = dicionario5.values()\n",
    "print(vals2)"
   ],
   "metadata": {
    "collapsed": false,
    "pycharm": {
     "name": "#%%\n"
    }
   }
  },
  {
   "cell_type": "code",
   "execution_count": 18,
   "outputs": [],
   "source": [
    "# Busca reversa - considerando um dicionário t e uma chave, é fácil encontrar o valor correspondente v = t[k]. Essa operacao chama-se busca\n",
    "# mas, e se vc tiver o valor e quiser encontrar a chave?. temos dois problemas\n",
    "# 1) Pode haver mais de uma chave que esteja mapeada ao valor\n",
    "# 2) Não há sintaxe simples para fazer a busca reversa; é preciso procurar\n",
    "\n",
    "dicionario6 = {'p': 3, 'a': 2, 'r': 1, 'l': 2, 'e': 3, 'i': 1, 'd': 1, 'o': 1}\n",
    "vals6 = dicionario6['p']\n",
    "\n",
    "for chave6 in dicionario6:\n",
    "    if dicionario5[chave6] == vals2:\n",
    "        print(chave6)"
   ],
   "metadata": {
    "collapsed": false,
    "pycharm": {
     "name": "#%%\n"
    }
   }
  },
  {
   "cell_type": "code",
   "execution_count": 15,
   "outputs": [
    {
     "name": "stdout",
     "output_type": "stream",
     "text": [
      "r\n"
     ]
    }
   ],
   "source": [
    "# busca reversa nem sucedida\n",
    "# 1) Vamos criar uma função que conta o numero de caracteres para um texto\n",
    "# 2) vamos criar outra função que vai trazer a chave a partir do valor informado\n",
    "\n",
    "def histogram2(texto):\n",
    "    dicionario = dict()\n",
    "    for caractere in texto:\n",
    "        if caractere not in dicionario:\n",
    "            dicionario[caractere] = 1   # adiciona o 1 e a letra, caso ambos nao existam\n",
    "        else:\n",
    "            dicionario[caractere] += 1  # adiciona o 1 para a letra que já existe ( contador )\n",
    "    return dicionario\n",
    "\n",
    "def reverse_lookup(d, v):      # recebe a chave do dicionario e o valor\n",
    "    for k in d:\n",
    "        if d[k] == v:\n",
    "            return k\n",
    "    raise LookupError()\n",
    "\n",
    "h = histogram2(\"parrot\")\n",
    "y = reverse_lookup(h,2)\n",
    "print(y)"
   ],
   "metadata": {
    "collapsed": false,
    "pycharm": {
     "name": "#%%\n"
    }
   }
  }
 ],
 "metadata": {
  "kernelspec": {
   "display_name": "Python 3",
   "language": "python",
   "name": "python3"
  },
  "language_info": {
   "codemirror_mode": {
    "name": "ipython",
    "version": 2
   },
   "file_extension": ".py",
   "mimetype": "text/x-python",
   "name": "python",
   "nbconvert_exporter": "python",
   "pygments_lexer": "ipython2",
   "version": "2.7.6"
  }
 },
 "nbformat": 4,
 "nbformat_minor": 0
}