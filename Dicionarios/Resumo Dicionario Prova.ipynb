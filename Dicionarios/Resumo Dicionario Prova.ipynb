{
 "cells": [
  {
   "cell_type": "code",
   "execution_count": null,
   "metadata": {
    "collapsed": true,
    "pycharm": {
     "name": "#%%\n"
    }
   },
   "outputs": [],
   "source": [
    "# Criamos dois dicionarios e concatenamos eles usando a função UPDATE\n",
    "\n",
    "dicionario = dict()\n",
    "dicionario2 = dict()\n",
    "\n",
    "for i in range(2):\n",
    "    nome = input(\"Digite o nome: \")\n",
    "    notas = []\n",
    "    for j in range(3):\n",
    "        nota = int(input(\"Digite sua nota: \"))\n",
    "        notas.append(nota)\n",
    "    dicionario[nome] = notas\n",
    "\n",
    "for i in range(2):\n",
    "    nome = input(\"Digite o nome: \")\n",
    "    notas2 = []\n",
    "    for j in range(3):\n",
    "        nota = int(input(\"Digite sua nota: \"))\n",
    "        notas2.append(nota)\n",
    "    dicionario2[nome] = notas2\n",
    "\n",
    "print(dicionario)\n",
    "print(dicionario2)\n",
    "dicionario.update(dicionario2)\n",
    "print(dicionario)\n"
   ]
  },
  {
   "cell_type": "code",
   "execution_count": null,
   "outputs": [],
   "source": [
    "for nome, listas in dicionario.items():\n",
    "    soma = sum(listas)\n",
    "    media = soma / len(listas)\n",
    "\n",
    "    print(f\" o Atleta {nome}, ficou com um total de {soma}, sua média foi de {media} \")"
   ],
   "metadata": {
    "collapsed": false,
    "pycharm": {
     "name": "#%%\n"
    }
   }
  },
  {
   "cell_type": "code",
   "execution_count": null,
   "outputs": [],
   "source": [
    "# Fazendo o zip de uma tupla de nomes com uma tupla de listas de valores para cada nome da tupla\n",
    "\n",
    "x = ('leo', 'rafa', 'roberto')\n",
    "y = ([2,3,4], [2,5,6], [4,6,8])\n",
    "z = list(zip(x, y))\n",
    "print(z)"
   ],
   "metadata": {
    "collapsed": false,
    "pycharm": {
     "name": "#%%\n"
    }
   }
  },
  {
   "cell_type": "markdown",
   "source": [
    "Criando uma lista de valores e vinculando para os nomes"
   ],
   "metadata": {
    "collapsed": false,
    "pycharm": {
     "name": "#%% md\n"
    }
   }
  },
  {
   "cell_type": "code",
   "execution_count": 3,
   "outputs": [
    {
     "name": "stdout",
     "output_type": "stream",
     "text": [
      "[('Jose', [4, 5]), ('Kaka', [6, 8]), ('Bueno', [7, 8])]\n",
      "[[4, 5], [6, 8], [7, 8]]\n",
      "{'Jose': [4, 5], 'Kaka': [6, 8], 'Bueno': [7, 8]}\n"
     ]
    }
   ],
   "source": [
    "x = ('Jose', 'Kaka', 'Bueno')\n",
    "z = list()\n",
    "\n",
    "for nome in x:\n",
    "    lista = list()\n",
    "    for valor in range(2):\n",
    "        n = int(input(\"Digite o n: \"))\n",
    "        lista.append(n)\n",
    "    z.append((nome, lista))\n",
    "\n",
    "print(z)\n",
    "\n",
    "\n",
    "# Transformando a tupla em um dicionário\n",
    "d= dict(z)\n",
    "print(d)"
   ],
   "metadata": {
    "collapsed": false,
    "pycharm": {
     "name": "#%%\n"
    }
   }
  },
  {
   "cell_type": "markdown",
   "source": [
    "Segunda forma de fazer a parte de cima"
   ],
   "metadata": {
    "collapsed": false,
    "pycharm": {
     "name": "#%% md\n"
    }
   }
  },
  {
   "cell_type": "code",
   "execution_count": 6,
   "outputs": [
    {
     "name": "stdout",
     "output_type": "stream",
     "text": [
      "[[2, 4], [5, 2], [1, 4]]\n",
      "[('Jose', [2, 4]), ('Kaka', [5, 2]), ('Bueno', [1, 4])]\n"
     ]
    }
   ],
   "source": [
    "a = ('Jose', 'Kaka', 'Bueno')\n",
    "z2 = list()\n",
    "for nome in x:\n",
    "    lista = list()\n",
    "    for valor in range(2):\n",
    "        n = int(input(\"Digite o n: \"))\n",
    "        lista.append(n)\n",
    "    z2.append(lista)\n",
    "print(z2)\n",
    "\n",
    "# Podemos agora fazer um zip entre os nomes e as listas\n",
    "\n",
    "z = list(zip(a, z2))\n",
    "print(z)"
   ],
   "metadata": {
    "collapsed": false,
    "pycharm": {
     "name": "#%%\n"
    }
   }
  },
  {
   "cell_type": "code",
   "execution_count": null,
   "outputs": [],
   "source": [],
   "metadata": {
    "collapsed": false,
    "pycharm": {
     "name": "#%%\n"
    }
   }
  }
 ],
 "metadata": {
  "kernelspec": {
   "display_name": "Python 3",
   "language": "python",
   "name": "python3"
  },
  "language_info": {
   "codemirror_mode": {
    "name": "ipython",
    "version": 2
   },
   "file_extension": ".py",
   "mimetype": "text/x-python",
   "name": "python",
   "nbconvert_exporter": "python",
   "pygments_lexer": "ipython2",
   "version": "2.7.6"
  }
 },
 "nbformat": 4,
 "nbformat_minor": 0
}