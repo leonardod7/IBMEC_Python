{
 "cells": [
  {
   "cell_type": "code",
   "execution_count": null,
   "metadata": {
    "collapsed": true,
    "pycharm": {
     "name": "#%%\n"
    }
   },
   "outputs": [],
   "source": [
    "# Escreva um programa Phyton para realizar 10 consultas as informações de classificação de restaurantes. O programa deve solicitar ao usuário o tipo de cozinha (pex. Chinese) e o programa deverá exibir todos os restaurantes desse tipo de cozinha, suas avaliações e as categorias de preço correspondentes."
   ]
  },
  {
   "cell_type": "code",
   "execution_count": 2,
   "outputs": [],
   "source": [
    "\n",
    "# Dicionário omde o par chave representa a especialidade da cozinha do restaurante e a lista de restaurantess daquela especialidade\n",
    "\n",
    "cuisine_to_name = {'Canadian': ['Georgie Porgie', 'The King Landing', 'The Sky Stars'],\n",
    "'Pub Food': ['Georgie Porgie', 'Deep Fried Everything', 'The Citizen'],\n",
    "'Malaysian': ['Queen St. Cafe', 'White Orchid', 'The Danforth', 'Yummy Garden'],\n",
    "'Thai': ['Queen St. Cafe', 'Lion City Restaurant'],\n",
    "'Chinese': ['Dumplings R Us', 'Dim Sum, Breakfast & Brunch', 'Mr Congee Chinese Cuisine',\n",
    "            'Tangerine Asian Cuisine', 'Wins Seafood Restaurant'],\n",
    "'Mexican': ['Mexican Grill', 'Mexican Grill & Tequila Bar'],\n",
    "'American': ['Swiss Chalet Rotisserie & Grill', 'The Wally Tap & Grill',\n",
    "             'Essence of Unionville', 'Mildreds Temple Kitchen', 'Hendriks Restaurant & Bar']}\n",
    "\n",
    "# Dicionário onde o par chave reprsentam respectivivamente o nome do restaurante e o percentual de avaliações boas efetuadas\n",
    "\n",
    "name_to_rating = {'Georgie Porgie': 87,\n",
    "'The Citizen': 78,\n",
    "'The King Landing': 68,\n",
    "'The Sky Stars': 72,\n",
    "'Queen St. Cafe': 82,\n",
    "'White Orchid': 80,\n",
    "'The Danforth':68,\n",
    "'Yummy Garden':75,\n",
    "'Dumplings R Us': 71,\n",
    "'Lion City Restaurant':86,\n",
    "'Dim Sum, Breakfast & Brunch':65,\n",
    "'Mr Congee Chinese Cuisine': 89,\n",
    "'Tangerine Asian Cuisine': 85,\n",
    "'Wins Seafood Restaurant':77,\n",
    "'Mexican Grill': 85,\n",
    "'Mexican Grill & Tequila Bar':88,\n",
    "'Deep Fried Everything': 52,\n",
    "'Swiss Chalet Rotisserie & Grill': 77,\n",
    "'The Wally Tap & Grill': 88,\n",
    "'Essence of Unionville': 75,\n",
    "'Mildreds Temple Kitchen': 77,\n",
    "'Hendriks Restaurant & Bar': 89}\n",
    "\n",
    "# Dicionario onde o par chave representa respectivamente a categoria de preço e a lista de nomes de restaurantes daquela categoria\n",
    "\n",
    "price_to_names = {'$': ['Queen St. Cafe', 'Dumplings R Us', 'Deep Fried Everything', 'The King Landing', 'Mexican Grill & Tequila Bar'],\n",
    "'$$': ['Mexican Grill', 'Dim Sum, Breakfast & Brunch', 'The Danforth', 'The Sky Stars', 'The Citizen'],\n",
    "'$$$': ['Georgie Porgie', 'Yummy Garden', 'Lion City Restaurant','The Wally Tap & Grill', 'Tangerine Asian Cuisine', 'Mildreds Temple Kitchen'],\n",
    "'$$$$': ['Swiss Chalet Rotisserie & Grill', 'White Orchid', 'Essence of Unionville', 'Mr Congee Chinese Cuisine', 'Wins Seafood Restaurant', 'Hendriks Restaurant & Bar']}"
   ],
   "metadata": {
    "collapsed": false,
    "pycharm": {
     "name": "#%%\n"
    }
   }
  },
  {
   "cell_type": "code",
   "execution_count": 3,
   "outputs": [],
   "source": [
    "# Para iterarmos sobre um dicionário, não podemos utilizar restaurantes, pois eles estão como lista.\n",
    "# uma forma de iterar um dicionário é usando tuplas. dessa forma, transformamos restaurantes em uma tupla"
   ],
   "metadata": {
    "collapsed": false,
    "pycharm": {
     "name": "#%%\n"
    }
   }
  },
  {
   "cell_type": "code",
   "execution_count": 4,
   "outputs": [
    {
     "name": "stdout",
     "output_type": "stream",
     "text": [
      "['Georgie Porgie', 'The King Landing', 'The Sky Stars']\n"
     ]
    }
   ],
   "source": [
    "# Vamos pedir o tipo da cozinha e procurar se existe esse tipo. Caso exista, ele retorna a lista de restaurantes\n",
    "for i in range(1):\n",
    "    tipo_cozinha = input(\"Digite o Tipo de Cozinha Desejado: \")\n",
    "    if tipo_cozinha not in cuisine_to_name:\n",
    "        print(\"Tipo de Cozinha Inválido\")\n",
    "    else:\n",
    "        restaurantes = cuisine_to_name[tipo_cozinha] # esses valores retornam uma lista com os nomes dos restauranttes conforme tipo de cozinha\n",
    "        print(restaurantes)\n"
   ],
   "metadata": {
    "collapsed": false,
    "pycharm": {
     "name": "#%%\n"
    }
   }
  },
  {
   "cell_type": "code",
   "execution_count": 5,
   "outputs": [
    {
     "name": "stdout",
     "output_type": "stream",
     "text": [
      " a Avaliação do Restaurante Georgie Porgie é: 87 \n",
      " a Avaliação do Restaurante The King Landing é: 68 \n",
      " a Avaliação do Restaurante The Sky Stars é: 72 \n"
     ]
    }
   ],
   "source": [
    "# Vamos pedir as avaliações dos restaurantes\n",
    "\n",
    "for restaurante in restaurantes:   # Para cada restaurante em restaurantes achados\n",
    "    Avaliacoes = name_to_rating[restaurante]  # traga em name to rating o valor que pertence ao nome do restaurante na lista de restaurantes\n",
    "    print(f\" a Avaliação do Restaurante {restaurante} é: {Avaliacoes} \")"
   ],
   "metadata": {
    "collapsed": false,
    "pycharm": {
     "name": "#%%\n"
    }
   }
  },
  {
   "cell_type": "code",
   "execution_count": 6,
   "outputs": [],
   "source": [
    "# Vamos pedir as categorias de preços para cada restaurante\n",
    "# Observe que nesse caso, temos que buscar o valor (nome do restaurante) e retornar a chave (categoria do restaurante)"
   ],
   "metadata": {
    "collapsed": false,
    "pycharm": {
     "name": "#%%\n"
    }
   }
  },
  {
   "cell_type": "code",
   "execution_count": 7,
   "outputs": [
    {
     "name": "stdout",
     "output_type": "stream",
     "text": [
      "dict_items([('$', ['Queen St. Cafe', 'Dumplings R Us', 'Deep Fried Everything', 'The King Landing', 'Mexican Grill & Tequila Bar']), ('$$', ['Mexican Grill', 'Dim Sum, Breakfast & Brunch', 'The Danforth', 'The Sky Stars', 'The Citizen']), ('$$$', ['Georgie Porgie', 'Yummy Garden', 'Lion City Restaurant', 'The Wally Tap & Grill', 'Tangerine Asian Cuisine', 'Mildreds Temple Kitchen']), ('$$$$', ['Swiss Chalet Rotisserie & Grill', 'White Orchid', 'Essence of Unionville', 'Mr Congee Chinese Cuisine', 'Wins Seafood Restaurant', 'Hendriks Restaurant & Bar'])])\n"
     ]
    }
   ],
   "source": [
    "# Para procurarmos em price to names, precisamos transformar o dicionário em uma lista com todos os pares chave/valor do dicionário.\n",
    "# só conseguiremos percorrer esse dicionário se fizermos isso. Dessa forma, para transformarmos o dicionario em uma lista, devemos usar o .items()\n",
    "print(price_to_names.items())"
   ],
   "metadata": {
    "collapsed": false,
    "pycharm": {
     "name": "#%%\n"
    }
   }
  },
  {
   "cell_type": "code",
   "execution_count": 11,
   "outputs": [
    {
     "name": "stdout",
     "output_type": "stream",
     "text": [
      "Georgie Porgie $$$\n",
      "The King Landing $\n",
      "The Sky Stars $$\n"
     ]
    }
   ],
   "source": [
    "# Devemos entao, procurar o restaurante em restaurantes (lista que criamos anteriormente)\n",
    "# Para cada chave, nomes, na lista price to names (que criamos usando o items)\n",
    "# Se o restaurante estiver contido em nomes\n",
    "# Retornar o nome do restaurante e o range de preco\n",
    "for restaurante in restaurantes:\n",
    "    for price_range, nomes in price_to_names.items():\n",
    "        if restaurante in nomes:\n",
    "            print(restaurante, price_range)"
   ],
   "metadata": {
    "collapsed": false,
    "pycharm": {
     "name": "#%%\n"
    }
   }
  },
  {
   "cell_type": "code",
   "execution_count": null,
   "outputs": [],
   "source": [
    "# Exemplo do código acima imprimindo um por um"
   ],
   "metadata": {
    "collapsed": false,
    "pycharm": {
     "name": "#%%\n"
    }
   }
  },
  {
   "cell_type": "code",
   "execution_count": 12,
   "outputs": [
    {
     "name": "stdout",
     "output_type": "stream",
     "text": [
      "Georgie Porgie\n",
      "$ ['Queen St. Cafe', 'Dumplings R Us', 'Deep Fried Everything', 'The King Landing', 'Mexican Grill & Tequila Bar']\n",
      "$$ ['Mexican Grill', 'Dim Sum, Breakfast & Brunch', 'The Danforth', 'The Sky Stars', 'The Citizen']\n",
      "$$$ ['Georgie Porgie', 'Yummy Garden', 'Lion City Restaurant', 'The Wally Tap & Grill', 'Tangerine Asian Cuisine', 'Mildreds Temple Kitchen']\n",
      "Georgie Porgie $$$\n",
      "$$$$ ['Swiss Chalet Rotisserie & Grill', 'White Orchid', 'Essence of Unionville', 'Mr Congee Chinese Cuisine', 'Wins Seafood Restaurant', 'Hendriks Restaurant & Bar']\n",
      "The King Landing\n",
      "$ ['Queen St. Cafe', 'Dumplings R Us', 'Deep Fried Everything', 'The King Landing', 'Mexican Grill & Tequila Bar']\n",
      "The King Landing $\n",
      "$$ ['Mexican Grill', 'Dim Sum, Breakfast & Brunch', 'The Danforth', 'The Sky Stars', 'The Citizen']\n",
      "$$$ ['Georgie Porgie', 'Yummy Garden', 'Lion City Restaurant', 'The Wally Tap & Grill', 'Tangerine Asian Cuisine', 'Mildreds Temple Kitchen']\n",
      "$$$$ ['Swiss Chalet Rotisserie & Grill', 'White Orchid', 'Essence of Unionville', 'Mr Congee Chinese Cuisine', 'Wins Seafood Restaurant', 'Hendriks Restaurant & Bar']\n",
      "The Sky Stars\n",
      "$ ['Queen St. Cafe', 'Dumplings R Us', 'Deep Fried Everything', 'The King Landing', 'Mexican Grill & Tequila Bar']\n",
      "$$ ['Mexican Grill', 'Dim Sum, Breakfast & Brunch', 'The Danforth', 'The Sky Stars', 'The Citizen']\n",
      "The Sky Stars $$\n",
      "$$$ ['Georgie Porgie', 'Yummy Garden', 'Lion City Restaurant', 'The Wally Tap & Grill', 'Tangerine Asian Cuisine', 'Mildreds Temple Kitchen']\n",
      "$$$$ ['Swiss Chalet Rotisserie & Grill', 'White Orchid', 'Essence of Unionville', 'Mr Congee Chinese Cuisine', 'Wins Seafood Restaurant', 'Hendriks Restaurant & Bar']\n"
     ]
    }
   ],
   "source": [
    "for restaurante in restaurantes:\n",
    "    print(restaurante)\n",
    "    for price_range, rests in price_to_names.items():\n",
    "        print(price_range, rests)\n",
    "        if restaurante in rests:\n",
    "            print(restaurante, price_range)"
   ],
   "metadata": {
    "collapsed": false,
    "pycharm": {
     "name": "#%%\n"
    }
   }
  },
  {
   "cell_type": "code",
   "execution_count": 209,
   "outputs": [],
   "source": [],
   "metadata": {
    "collapsed": false,
    "pycharm": {
     "name": "#%%\n"
    }
   }
  },
  {
   "cell_type": "code",
   "execution_count": null,
   "outputs": [],
   "source": [],
   "metadata": {
    "collapsed": false,
    "pycharm": {
     "name": "#%%\n"
    }
   }
  }
 ],
 "metadata": {
  "kernelspec": {
   "display_name": "Python 3",
   "language": "python",
   "name": "python3"
  },
  "language_info": {
   "codemirror_mode": {
    "name": "ipython",
    "version": 2
   },
   "file_extension": ".py",
   "mimetype": "text/x-python",
   "name": "python",
   "nbconvert_exporter": "python",
   "pygments_lexer": "ipython2",
   "version": "2.7.6"
  }
 },
 "nbformat": 4,
 "nbformat_minor": 0
}