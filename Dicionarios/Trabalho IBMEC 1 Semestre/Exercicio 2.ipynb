{
 "cells": [
  {
   "cell_type": "code",
   "execution_count": 9,
   "metadata": {
    "collapsed": true,
    "pycharm": {
     "name": "#%%\n"
    }
   },
   "outputs": [],
   "source": [
    "# 2.\tEscreva uma função que conta a quantidade de vogais em um texto e armazena tal quantidade em um dicionário, onde a chave é a vogal considerada. A função deve retornar o dicionário como resultado. A seguir, crie um programa que solicite a digitação de uma frase e exiba a quantidade de cada uma das vogais na frase. Ignore se as letras são maiúsculas ou minúsculas(utilize a função  .lower() para pôr a frase com caracteres minúsculos)."
   ]
  },
  {
   "cell_type": "code",
   "execution_count": 17,
   "outputs": [
    {
     "name": "stdout",
     "output_type": "stream",
     "text": [
      "aeudjeusioejsuehd\n",
      "{'a': 1, 'e': 4, 'i': 1, 'o': 1, 'u': 3}\n"
     ]
    }
   ],
   "source": [
    "texto = input(\"Informe um texto: \").lower() # \"palavra\"\n",
    "print(texto)\n",
    "def vogais_count(texto):\n",
    "    vogais = \"aeiou\"\n",
    "    dicionario = dict().fromkeys(vogais, 0)\n",
    "    for letra in texto:\n",
    "        if letra in dicionario:\n",
    "            dicionario[letra] += 1\n",
    "    return dicionario\n",
    "\n",
    "Resultado = vogais_count(texto)\n",
    "print(Resultado)"
   ],
   "metadata": {
    "collapsed": false,
    "pycharm": {
     "name": "#%%\n"
    }
   }
  }
 ],
 "metadata": {
  "kernelspec": {
   "display_name": "Python 3",
   "language": "python",
   "name": "python3"
  },
  "language_info": {
   "codemirror_mode": {
    "name": "ipython",
    "version": 2
   },
   "file_extension": ".py",
   "mimetype": "text/x-python",
   "name": "python",
   "nbconvert_exporter": "python",
   "pygments_lexer": "ipython2",
   "version": "2.7.6"
  }
 },
 "nbformat": 4,
 "nbformat_minor": 0
}