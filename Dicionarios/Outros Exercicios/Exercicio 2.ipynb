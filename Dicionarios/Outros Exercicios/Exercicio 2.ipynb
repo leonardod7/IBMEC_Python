{
 "cells": [
  {
   "cell_type": "code",
   "execution_count": null,
   "metadata": {
    "collapsed": true,
    "pycharm": {
     "name": "#%%\n"
    }
   },
   "outputs": [],
   "source": [
    "# Exercício 2"
   ]
  },
  {
   "cell_type": "code",
   "execution_count": null,
   "outputs": [],
   "source": [
    "# Primeira Forma"
   ],
   "metadata": {
    "collapsed": false,
    "pycharm": {
     "name": "#%%\n"
    }
   }
  },
  {
   "cell_type": "code",
   "execution_count": 2,
   "outputs": [
    {
     "name": "stdout",
     "output_type": "stream",
     "text": [
      "{'Ana': '111', 'Beto': '222', 'Ciça': '333', 'Duda': '444', 'Eva': '555'}\n",
      "telefone: 111\n"
     ]
    }
   ],
   "source": [
    "tuplas = [('Ana', '111'), ('Beto', '222'), ('Ciça', '333'), ('Duda', '444'), ('Eva', '555')]\n",
    "agenda = dict(tuplas)\n",
    "\n",
    "print(agenda)\n",
    "\n",
    "for i in range(1):\n",
    "    nome = input('Nome:')\n",
    "    if nome in agenda:\n",
    "        print('telefone:',agenda[nome])\n",
    "    else:\n",
    "        print(f\"{nome} não está no dicionário\")"
   ],
   "metadata": {
    "collapsed": false,
    "pycharm": {
     "name": "#%%\n"
    }
   }
  },
  {
   "cell_type": "code",
   "execution_count": null,
   "outputs": [],
   "source": [
    "# Segunda Forma"
   ],
   "metadata": {
    "collapsed": false,
    "pycharm": {
     "name": "#%%\n"
    }
   }
  },
  {
   "cell_type": "code",
   "execution_count": 1,
   "outputs": [
    {
     "name": "stdout",
     "output_type": "stream",
     "text": [
      "{'Ana': '111', 'Beto': '222', 'Ciça': '333', 'Duda': '444', 'Eva': '555'}\n",
      "telefone: 111\n",
      "telefone: 111\n",
      "telefone: 111\n",
      "telefone: 111\n"
     ]
    }
   ],
   "source": [
    "tuplas = [('Ana', '111'), ('Beto', '222'), ('Ciça', '333'), ('Duda', '444'), ('Eva', '555')]\n",
    "agenda = dict(tuplas)\n",
    "\n",
    "print(agenda)\n",
    "\n",
    "for i in range(1):\n",
    "    nome = input('Nome:')\n",
    "    print('telefone:', agenda[nome])\n",
    "    print('telefone:', agenda.get(nome,'Número não encotrado'))\n",
    "    tel = agenda.get(nome,'N/A')\n",
    "    if tel == 'N/A':\n",
    "        print(f\"{nome} não está no dicionário\")\n",
    "    else:\n",
    "        print('telefone:',agenda[nome])\n",
    "\n",
    "    if nome in agenda:\n",
    "        print('telefone:',agenda[nome])\n",
    "    else:\n",
    "        print(f\"{nome} não está no dicionário\")"
   ],
   "metadata": {
    "collapsed": false,
    "pycharm": {
     "name": "#%%\n"
    }
   }
  }
 ],
 "metadata": {
  "kernelspec": {
   "display_name": "Python 3",
   "language": "python",
   "name": "python3"
  },
  "language_info": {
   "codemirror_mode": {
    "name": "ipython",
    "version": 2
   },
   "file_extension": ".py",
   "mimetype": "text/x-python",
   "name": "python",
   "nbconvert_exporter": "python",
   "pygments_lexer": "ipython2",
   "version": "2.7.6"
  }
 },
 "nbformat": 4,
 "nbformat_minor": 0
}